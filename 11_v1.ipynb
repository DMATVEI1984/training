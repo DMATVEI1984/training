{
 "cells": [
  {
   "cell_type": "markdown",
   "metadata": {},
   "source": [
    "**Название проекта**:\n",
    "- telecom.  \n",
    "\n",
    "**Заказчик:**\n",
    "- провайдер виртуальный телефонии.  \n",
    "\n",
    "**Цель проекта:**\n",
    "- определить неэффективных операторов.  \n",
    "\n",
    "**Основные этапы проекта:**\n",
    "\n",
    "- предварительная обработка данных;\n",
    "- определение неэффективных операторов;\n",
    "- проверка статистических гипотез.\n",
    "\n",
    "**Итоги проекта:**\n",
    "- определение неэффективных операторов.\n",
    "\n",
    "**Исполнитель, контакты:**"
   ]
  },
  {
   "cell_type": "markdown",
   "metadata": {},
   "source": [
    "\n",
    "***"
   ]
  },
  {
   "cell_type": "markdown",
   "metadata": {},
   "source": [
    "  \n",
    "  "
   ]
  },
  {
   "cell_type": "markdown",
   "metadata": {},
   "source": [
    "***для работы с Tableau Public преобразуем дату в формат \"год-месяц-день\"  \n",
    "и сохраним новый датасет telecom_dataset_2 локально  \n",
    "dataset['data'] = pd.to_datetime(dataset['date']).dt.date  \n",
    "dataset.to_csv('C:\\\\Users\\\\Влада\\\\Desktop\\\\Учёба\\\\Яндекс\\\\выпускной проект\\\\telecom_dataset_2.csv')***"
   ]
  },
  {
   "cell_type": "markdown",
   "metadata": {},
   "source": [
    "***"
   ]
  },
  {
   "cell_type": "markdown",
   "id": "5a49bc94",
   "metadata": {},
   "source": [
    "## Изучение данных из файла"
   ]
  },
  {
   "cell_type": "markdown",
   "id": "2395ca0d",
   "metadata": {},
   "source": [
    "### Импорт необходимых библиотек"
   ]
  },
  {
   "cell_type": "code",
   "execution_count": 1,
   "id": "36db6d68",
   "metadata": {},
   "outputs": [
    {
     "data": {
      "application/javascript": [
       "IPython.notebook.set_autosave_interval(120000)"
      ]
     },
     "metadata": {},
     "output_type": "display_data"
    },
    {
     "name": "stdout",
     "output_type": "stream",
     "text": [
      "Autosaving every 120 seconds\n"
     ]
    },
    {
     "data": {
      "text/html": [
       "<style>.container{width:90% !important;}</style>"
      ],
      "text/plain": [
       "<IPython.core.display.HTML object>"
      ]
     },
     "metadata": {},
     "output_type": "display_data"
    },
    {
     "name": "stdout",
     "output_type": "stream",
     "text": [
      "Requirement already satisfied: plotly in c:\\python\\lib\\site-packages (5.6.0)\n",
      "Requirement already satisfied: tenacity>=6.2.0 in c:\\python\\lib\\site-packages (from plotly) (8.0.1)\n",
      "Requirement already satisfied: six in c:\\python\\lib\\site-packages (from plotly) (1.16.0)\n"
     ]
    }
   ],
   "source": [
    "%autosave 120\n",
    "import pandas as pd # импорт библиотеки pandas\n",
    "from scipy import stats as st # импорт библиотеки scipy\n",
    "import scipy.stats as stats\n",
    "import numpy as np # импорт библиотеки numpy\n",
    "import matplotlib.pyplot as plt # импорт библиотеки matplotlib\n",
    "%matplotlib inline\n",
    "import seaborn as sns # импорт библиотеки seaborn\n",
    "import warnings # отключим предупреждения о безопасности\n",
    "warnings.filterwarnings('ignore')\n",
    "from IPython.core.display import display, HTML \n",
    "display(HTML(\"<style>.container{width:90% !important;}</style>\")) # масштабирование экрана\n",
    "import seaborn as sns\n",
    "!pip install plotly\n",
    "pd.set_option('display.max.columns', None) # покажем все столбцы (убедимся что нет скрытых)\n",
    "import plotly.express as px\n",
    "from datetime import datetime\n",
    "import datetime as dt\n",
    "from pandas.plotting import register_matplotlib_converters\n",
    "# конвертеры, которые позволяют использовать типы pandas в matplotlib  \n",
    "register_matplotlib_converters()\n",
    "\n",
    "import math as mth"
   ]
  },
  {
   "cell_type": "code",
   "execution_count": 2,
   "id": "132987d7",
   "metadata": {},
   "outputs": [],
   "source": [
    "# from datetime import datetime\n",
    "# pd.options.display.float_format = '{:,.2f}'.format"
   ]
  },
  {
   "cell_type": "markdown",
   "id": "c4e6692d",
   "metadata": {},
   "source": [
    "### Чтение файлов и описание данных"
   ]
  },
  {
   "cell_type": "code",
   "execution_count": 3,
   "metadata": {},
   "outputs": [],
   "source": [
    "try:\n",
    "    clients = pd.read_csv('C:\\\\Users\\\\Влада\\\\Desktop\\\\Учёба\\\\Яндекс\\\\выпускной проект\\\\telecom_clients.csv')\n",
    "# чтение и сохранение файла локально\n",
    "except:\n",
    "    \n",
    "# чтение и сохранение файла из сети\n"
   ]
  },
  {
   "cell_type": "code",
   "execution_count": 4,
   "id": "da75de61",
   "metadata": {},
   "outputs": [],
   "source": [
    "try:\n",
    "    dataset = pd.read_csv('C:\\\\Users\\\\Влада\\\\Desktop\\\\Учёба\\\\Яндекс\\\\выпускной проект\\\\telecom_dataset.csv')\n",
    "# чтение и сохранение файла локально\n",
    "except:\n",
    "    \n",
    "# чтение и сохранение файла из сети"
   ]
  },
  {
   "cell_type": "markdown",
   "id": "ead4dade",
   "metadata": {},
   "source": [
    "***Примечание: Прочитать датасет ......zip можно не распаковывая, используя команду pd.read_csv('.zip')***"
   ]
  },
  {
   "cell_type": "code",
   "execution_count": 5,
   "id": "70d4de71",
   "metadata": {},
   "outputs": [],
   "source": [
    "# display(clients.head(2)) # получим две первые строки датафрейма \n",
    "# # display(clients.sample(2)) # получим две случайные строки датафрейма \n",
    "# display(clients.tail(2)) # получим две последние строки датафрейма"
   ]
  },
  {
   "cell_type": "markdown",
   "id": "5b1ab544",
   "metadata": {},
   "source": [
    "***Описание данных:***\n",
    "- user_id — идентификатор клиентского аккаунта в сервисе;\n",
    "- tariff_plan — текущий тарифный план клиента;\n",
    "- date_start — дата регистрации клиентв в сервисе."
   ]
  },
  {
   "cell_type": "code",
   "execution_count": 6,
   "id": "6fb3b8c9",
   "metadata": {},
   "outputs": [],
   "source": [
    "# display(dataset.head(2)) # получим две первые строки датафрейма \n",
    "# # display(dataset.sample(2)) # получим две случайные строки датафрейма \n",
    "# display(dataset.tail(2)) # получим две последние строки датафрейма"
   ]
  },
  {
   "cell_type": "markdown",
   "id": "be313e09",
   "metadata": {},
   "source": [
    "***Описание данных:***\n",
    "- user_id — идентификатор клиентского аккаунта в сервисе;\n",
    "- date — дата статистики;\n",
    "- direction — направление вызовов (out - исходящий вызов, in — входящий вызов);\n",
    "- internal — является ли звонок внутренним звонком между операторами клиента;\n",
    "- operator_id — идентификатор оператора;\n",
    "- is_missed_call — является ли звонок пропущенным;\n",
    "- calls_count — количество звонков;\n",
    "- call_duration — длительность звонка (без учета времени ожидания);\n",
    "- total_call_duration — длительность звонка (с учетом времени ожидания)."
   ]
  },
  {
   "cell_type": "markdown",
   "id": "5c21b3ad",
   "metadata": {},
   "source": [
    "### Исследовательский анализ данных"
   ]
  },
  {
   "cell_type": "code",
   "execution_count": 7,
   "id": "30df7244",
   "metadata": {},
   "outputs": [],
   "source": [
    "# print('', 'Общая информации о наборе данных clients:', '', sep = '\\n')\n",
    "# clients.info()"
   ]
  },
  {
   "cell_type": "code",
   "execution_count": 8,
   "id": "40059c66",
   "metadata": {},
   "outputs": [],
   "source": [
    "# print('', 'Информация основных статистических данных таблицы clients:',  sep = '\\n')\n",
    "# clients.describe().round(1)"
   ]
  },
  {
   "cell_type": "code",
   "execution_count": 9,
   "id": "fa740b92",
   "metadata": {},
   "outputs": [],
   "source": [
    "# print('', 'Общая информации о наборе данных dataset:', '', sep = '\\n')\n",
    "# dataset.info()"
   ]
  },
  {
   "cell_type": "code",
   "execution_count": 10,
   "id": "1db7ed22",
   "metadata": {
    "scrolled": true
   },
   "outputs": [],
   "source": [
    "# print('', 'Информация основных статистических данных таблицы dataset:',  sep = '\\n')\n",
    "# dataset.describe().round(1)"
   ]
  },
  {
   "cell_type": "markdown",
   "metadata": {},
   "source": [
    "***Вывод:***\n",
    "- просмотр данных по таблице clients показал отсутствие пропусков;\n",
    "- просмотр данных по таблице dataset показал:  \n",
    "-- необходимость изменения типа данных по столбцу operator_id;\n",
    "-- наличие пропусков по столбцам  internal и operator_id;\n",
    "-- столбцы calls_count, call_duration, total_call_duration имеют ассиметричные наборы данных с дополнительными значениями справа, то есть имеют скошенность в положительную сторону, потому что медиана (50%) меньше среднего (mean)."
   ]
  },
  {
   "cell_type": "markdown",
   "id": "5ca515e3",
   "metadata": {},
   "source": [
    "### Предварительная обработка данных"
   ]
  },
  {
   "cell_type": "markdown",
   "id": "d6d6ce12",
   "metadata": {},
   "source": [
    "### Работа с датой"
   ]
  },
  {
   "cell_type": "code",
   "execution_count": 11,
   "id": "3cb8ce08",
   "metadata": {},
   "outputs": [
    {
     "data": {
      "text/plain": [
       "date_start    object\n",
       "data          object\n",
       "dtype: object"
      ]
     },
     "execution_count": 11,
     "metadata": {},
     "output_type": "execute_result"
    }
   ],
   "source": [
    "clients['data'] = pd.to_datetime(clients['date_start']).dt.date\n",
    "clients[['date_start', 'data']].dtypes"
   ]
  },
  {
   "cell_type": "code",
   "execution_count": 12,
   "id": "25caef24",
   "metadata": {
    "scrolled": true
   },
   "outputs": [
    {
     "name": "stdout",
     "output_type": "stream",
     "text": [
      "Дата начала периода в таблице clients:\n",
      "2019-08-01\n",
      "Дата окончания периода:\n",
      "2019-10-31\n",
      "Данные представлены за период:\n",
      "91 days, 0:00:00\n"
     ]
    }
   ],
   "source": [
    "print('Дата начала периода в таблице clients:', clients['data'].min(),\\\n",
    "      'Дата окончания периода:', clients['data'].max(),\\\n",
    "      'Данные представлены за период:',  clients['data'].max()-clients['data'].min(), sep='\\n')"
   ]
  },
  {
   "cell_type": "code",
   "execution_count": 13,
   "id": "e6060f1d",
   "metadata": {},
   "outputs": [
    {
     "data": {
      "text/plain": [
       "date    object\n",
       "data    object\n",
       "dtype: object"
      ]
     },
     "execution_count": 13,
     "metadata": {},
     "output_type": "execute_result"
    }
   ],
   "source": [
    "dataset['data'] = pd.to_datetime(dataset['date']).dt.date\n",
    "dataset[['date', 'data']].dtypes"
   ]
  },
  {
   "cell_type": "code",
   "execution_count": 14,
   "id": "dc9c8e52",
   "metadata": {},
   "outputs": [
    {
     "name": "stdout",
     "output_type": "stream",
     "text": [
      "Дата начала периода в таблице dataset:\n",
      "2019-08-02\n",
      "Дата окончания периода:\n",
      "2019-11-28\n",
      "Данные представлены за период:\n",
      "118 days, 0:00:00\n"
     ]
    }
   ],
   "source": [
    "print('Дата начала периода в таблице dataset:', dataset['data'].min(),\\\n",
    "      'Дата окончания периода:', dataset['data'].max(),\\\n",
    "      'Данные представлены за период:',  dataset['data'].max()-dataset['data'].min(), sep='\\n')"
   ]
  },
  {
   "cell_type": "markdown",
   "id": "5c1cbef9",
   "metadata": {},
   "source": [
    "### Работа с пропусками в данных"
   ]
  },
  {
   "cell_type": "code",
   "execution_count": 15,
   "id": "1694297f",
   "metadata": {
    "scrolled": false
   },
   "outputs": [
    {
     "name": "stdout",
     "output_type": "stream",
     "text": [
      "\n",
      "Количество пропусков, строк:\n",
      "\n",
      "user_id        0\n",
      "tariff_plan    0\n",
      "date_start     0\n",
      "data           0\n",
      "dtype: int64\n"
     ]
    }
   ],
   "source": [
    "# определим количество пропусков по таблице clients\n",
    "# выполним сортировку количества пропусков по возрастанию значений в столбцах\n",
    "print('', 'Количество пропусков, строк:', '',\n",
    "      clients.isna().sum().sort_values(), sep = '\\n')"
   ]
  },
  {
   "cell_type": "markdown",
   "id": "224a9561",
   "metadata": {},
   "source": [
    "***Данные по таблице clients не содержат пропусков.***"
   ]
  },
  {
   "cell_type": "code",
   "execution_count": 16,
   "id": "b7691e44",
   "metadata": {
    "scrolled": true
   },
   "outputs": [
    {
     "name": "stdout",
     "output_type": "stream",
     "text": [
      "\n",
      "Количество пропусков, строк:\n",
      "\n",
      "user_id                   0\n",
      "date                      0\n",
      "direction                 0\n",
      "is_missed_call            0\n",
      "calls_count               0\n",
      "call_duration             0\n",
      "total_call_duration       0\n",
      "data                      0\n",
      "internal                117\n",
      "operator_id            8172\n",
      "dtype: int64\n"
     ]
    }
   ],
   "source": [
    "# определим количество пропусков по таблице dataset\n",
    "print('', 'Количество пропусков, строк:', '',\n",
    "      dataset.isna().sum().sort_values(), sep = '\\n')"
   ]
  },
  {
   "cell_type": "code",
   "execution_count": 17,
   "id": "190886e9",
   "metadata": {
    "scrolled": false
   },
   "outputs": [
    {
     "data": {
      "text/html": [
       "<div>\n",
       "<style scoped>\n",
       "    .dataframe tbody tr th:only-of-type {\n",
       "        vertical-align: middle;\n",
       "    }\n",
       "\n",
       "    .dataframe tbody tr th {\n",
       "        vertical-align: top;\n",
       "    }\n",
       "\n",
       "    .dataframe thead th {\n",
       "        text-align: right;\n",
       "    }\n",
       "</style>\n",
       "<table border=\"1\" class=\"dataframe\">\n",
       "  <thead>\n",
       "    <tr style=\"text-align: right;\">\n",
       "      <th></th>\n",
       "      <th>column_name</th>\n",
       "      <th>%</th>\n",
       "    </tr>\n",
       "  </thead>\n",
       "  <tbody>\n",
       "    <tr>\n",
       "      <th>0</th>\n",
       "      <td>user_id</td>\n",
       "      <td>0.0</td>\n",
       "    </tr>\n",
       "    <tr>\n",
       "      <th>1</th>\n",
       "      <td>date</td>\n",
       "      <td>0.0</td>\n",
       "    </tr>\n",
       "    <tr>\n",
       "      <th>2</th>\n",
       "      <td>direction</td>\n",
       "      <td>0.0</td>\n",
       "    </tr>\n",
       "    <tr>\n",
       "      <th>3</th>\n",
       "      <td>is_missed_call</td>\n",
       "      <td>0.0</td>\n",
       "    </tr>\n",
       "    <tr>\n",
       "      <th>4</th>\n",
       "      <td>calls_count</td>\n",
       "      <td>0.0</td>\n",
       "    </tr>\n",
       "    <tr>\n",
       "      <th>5</th>\n",
       "      <td>call_duration</td>\n",
       "      <td>0.0</td>\n",
       "    </tr>\n",
       "    <tr>\n",
       "      <th>6</th>\n",
       "      <td>total_call_duration</td>\n",
       "      <td>0.0</td>\n",
       "    </tr>\n",
       "    <tr>\n",
       "      <th>7</th>\n",
       "      <td>data</td>\n",
       "      <td>0.0</td>\n",
       "    </tr>\n",
       "    <tr>\n",
       "      <th>8</th>\n",
       "      <td>internal</td>\n",
       "      <td>0.2</td>\n",
       "    </tr>\n",
       "    <tr>\n",
       "      <th>9</th>\n",
       "      <td>operator_id</td>\n",
       "      <td>15.2</td>\n",
       "    </tr>\n",
       "  </tbody>\n",
       "</table>\n",
       "</div>"
      ],
      "text/plain": [
       "           column_name     %\n",
       "0              user_id   0.0\n",
       "1                 date   0.0\n",
       "2            direction   0.0\n",
       "3       is_missed_call   0.0\n",
       "4          calls_count   0.0\n",
       "5        call_duration   0.0\n",
       "6  total_call_duration   0.0\n",
       "7                 data   0.0\n",
       "8             internal   0.2\n",
       "9          operator_id  15.2"
      ]
     },
     "execution_count": 17,
     "metadata": {},
     "output_type": "execute_result"
    }
   ],
   "source": [
    "# определим процент пропусков по таблице dataset\n",
    "(dataset.isna().sum().sort_values()*100/dataset.shape[0]).round(1).reset_index().rename(columns = {'index' : 'column_name', 0 : '%'})\n",
    "#, inplace = True) \n",
    "#выполним сортировку количества пропусков по возрастанию значений в столбцах в процентах\n",
    "#количество строк в столбце df.shape[0], столбцов df.shape[1]"
   ]
  },
  {
   "cell_type": "markdown",
   "id": "47d4d383",
   "metadata": {},
   "source": [
    "***Оцениваем, что количеством пропусков по столбцу `internal` можно принебречь, так как оно незначительно.  \n",
    "Столбец `operator_id`  имеет значительный процент пропусков, поэтому необходимо продолжить работу с пропусками в данных.  \n",
    "Заполним пропуски по столбцу значением '1', так как на этой стадии анализа значение operator_id не принципиально и не оказывает существенного влиния на работу.***"
   ]
  },
  {
   "cell_type": "code",
   "execution_count": 18,
   "id": "06dd0c5f",
   "metadata": {},
   "outputs": [],
   "source": [
    "# чтобы отбросить всё, что не имеет значения по столбцу 'internal' - пропуски (~указывающий NOT)\n",
    "dataset = dataset[~dataset['internal'].isna()]"
   ]
  },
  {
   "cell_type": "code",
   "execution_count": 19,
   "id": "7dff8c0d",
   "metadata": {},
   "outputs": [
    {
     "data": {
      "text/plain": [
       "dtype('int64')"
      ]
     },
     "execution_count": 19,
     "metadata": {},
     "output_type": "execute_result"
    }
   ],
   "source": [
    "dataset['operator_id'] = dataset['operator_id'].fillna(1)\n",
    "dataset['operator_id'] = dataset['operator_id'].astype('int64') # преобразуем столбец к формату целых чисел\n",
    "dataset['operator_id'].dtypes # получим тип данных"
   ]
  },
  {
   "cell_type": "markdown",
   "id": "7d1ae107",
   "metadata": {},
   "source": [
    "### Обработка дубликатов"
   ]
  },
  {
   "cell_type": "code",
   "execution_count": 20,
   "id": "7ce2c9d1",
   "metadata": {},
   "outputs": [
    {
     "name": "stdout",
     "output_type": "stream",
     "text": [
      "Найдено явных дубликатов в таблице clients: 0\n"
     ]
    }
   ],
   "source": [
    "# получим количество явных дубликатов методом duplicated()\n",
    "print('Найдено явных дубликатов в таблице clients:', clients.duplicated().sum())\n",
    "\n",
    "# ссылка\n",
    "# https://andreyex.ru/programmirovanie/python/kak-udalit-povtoryayushhiesya-stroki-v-pandas-python/\n",
    "\n",
    "# получим повторяющиеся строки\n",
    "# dup_rows = logs[logs.duplicated()]\n",
    "# dup_rows"
   ]
  },
  {
   "cell_type": "code",
   "execution_count": 21,
   "id": "8e3c3872",
   "metadata": {
    "scrolled": true
   },
   "outputs": [
    {
     "name": "stdout",
     "output_type": "stream",
     "text": [
      "Найдено явных дубликатов в таблице dataset: 4893\n"
     ]
    }
   ],
   "source": [
    "print('Найдено явных дубликатов в таблице dataset:', dataset.duplicated().sum())"
   ]
  },
  {
   "cell_type": "code",
   "execution_count": 22,
   "id": "c2504cf9",
   "metadata": {},
   "outputs": [],
   "source": [
    "# удалим явные дубликаты\n",
    "dataset = dataset.drop_duplicates(keep=False)"
   ]
  },
  {
   "cell_type": "code",
   "execution_count": 23,
   "id": "b787344a",
   "metadata": {},
   "outputs": [
    {
     "name": "stdout",
     "output_type": "stream",
     "text": [
      "Найдено явных дубликатов в таблице dataset: 0\n",
      "Количество строк в таблице logs после удаления дубликатов составляет: 43999\n"
     ]
    }
   ],
   "source": [
    "print('Найдено явных дубликатов в таблице dataset:', dataset.duplicated().sum())\n",
    "print('Количество строк в таблице logs после удаления дубликатов составляет:', len(dataset))"
   ]
  },
  {
   "cell_type": "markdown",
   "id": "3b2ee7fe",
   "metadata": {},
   "source": [
    "***Сделаем проверку таблицы dataset на дубликаты строк с разными `operator_id`, то есть проверим, не повторяются ли значения всех других столбцов, кроме значения `operator_id`.***"
   ]
  },
  {
   "cell_type": "code",
   "execution_count": 24,
   "id": "eb03deaa",
   "metadata": {
    "scrolled": true
   },
   "outputs": [
    {
     "name": "stdout",
     "output_type": "stream",
     "text": [
      "Количество строк в таблице dataset составляет: 43910\n"
     ]
    }
   ],
   "source": [
    "df = dataset.drop_duplicates(subset=['user_id', 'date', 'direction', 'internal', 'is_missed_call', 'calls_count',\n",
    "                                          'call_duration', 'total_call_duration'])\n",
    "print('Количество строк в таблице dataset составляет:', len(df))"
   ]
  },
  {
   "cell_type": "markdown",
   "id": "7447cdae",
   "metadata": {},
   "source": [
    "***Выявляем дубликаты по столбцу operator_id.***"
   ]
  },
  {
   "cell_type": "code",
   "execution_count": 25,
   "id": "15186d33",
   "metadata": {},
   "outputs": [],
   "source": [
    "# получим список operator_id с уникальными значениями\n",
    "list_df = df['operator_id'].tolist()\n",
    "# print(list_df)"
   ]
  },
  {
   "cell_type": "code",
   "execution_count": 26,
   "id": "3cee8c1a",
   "metadata": {
    "scrolled": true
   },
   "outputs": [
    {
     "data": {
      "text/html": [
       "<div>\n",
       "<style scoped>\n",
       "    .dataframe tbody tr th:only-of-type {\n",
       "        vertical-align: middle;\n",
       "    }\n",
       "\n",
       "    .dataframe tbody tr th {\n",
       "        vertical-align: top;\n",
       "    }\n",
       "\n",
       "    .dataframe thead th {\n",
       "        text-align: right;\n",
       "    }\n",
       "</style>\n",
       "<table border=\"1\" class=\"dataframe\">\n",
       "  <thead>\n",
       "    <tr style=\"text-align: right;\">\n",
       "      <th></th>\n",
       "      <th>user_id</th>\n",
       "      <th>date</th>\n",
       "      <th>direction</th>\n",
       "      <th>internal</th>\n",
       "      <th>operator_id</th>\n",
       "      <th>is_missed_call</th>\n",
       "      <th>calls_count</th>\n",
       "      <th>call_duration</th>\n",
       "      <th>total_call_duration</th>\n",
       "      <th>data</th>\n",
       "    </tr>\n",
       "  </thead>\n",
       "  <tbody>\n",
       "    <tr>\n",
       "      <th>17497</th>\n",
       "      <td>166939</td>\n",
       "      <td>2019-11-20 00:00:00+03:00</td>\n",
       "      <td>out</td>\n",
       "      <td>True</td>\n",
       "      <td>955068</td>\n",
       "      <td>True</td>\n",
       "      <td>2</td>\n",
       "      <td>0</td>\n",
       "      <td>0</td>\n",
       "      <td>2019-11-20</td>\n",
       "    </tr>\n",
       "    <tr>\n",
       "      <th>49072</th>\n",
       "      <td>168187</td>\n",
       "      <td>2019-11-20 00:00:00+03:00</td>\n",
       "      <td>out</td>\n",
       "      <td>False</td>\n",
       "      <td>937770</td>\n",
       "      <td>True</td>\n",
       "      <td>1</td>\n",
       "      <td>0</td>\n",
       "      <td>37</td>\n",
       "      <td>2019-11-20</td>\n",
       "    </tr>\n",
       "    <tr>\n",
       "      <th>49886</th>\n",
       "      <td>168225</td>\n",
       "      <td>2019-11-28 00:00:00+03:00</td>\n",
       "      <td>out</td>\n",
       "      <td>False</td>\n",
       "      <td>970258</td>\n",
       "      <td>True</td>\n",
       "      <td>1</td>\n",
       "      <td>0</td>\n",
       "      <td>11</td>\n",
       "      <td>2019-11-28</td>\n",
       "    </tr>\n",
       "  </tbody>\n",
       "</table>\n",
       "</div>"
      ],
      "text/plain": [
       "       user_id                       date direction internal  operator_id  \\\n",
       "17497   166939  2019-11-20 00:00:00+03:00       out     True       955068   \n",
       "49072   168187  2019-11-20 00:00:00+03:00       out    False       937770   \n",
       "49886   168225  2019-11-28 00:00:00+03:00       out    False       970258   \n",
       "\n",
       "       is_missed_call  calls_count  call_duration  total_call_duration  \\\n",
       "17497            True            2              0                    0   \n",
       "49072            True            1              0                   37   \n",
       "49886            True            1              0                   11   \n",
       "\n",
       "             data  \n",
       "17497  2019-11-20  \n",
       "49072  2019-11-20  \n",
       "49886  2019-11-28  "
      ]
     },
     "execution_count": 26,
     "metadata": {},
     "output_type": "execute_result"
    }
   ],
   "source": [
    "# получим таблицу дубликатов\n",
    "e = dataset.query('operator_id not in @list_df')\n",
    "# e.info()\n",
    "e"
   ]
  },
  {
   "cell_type": "code",
   "execution_count": 27,
   "id": "cec41201",
   "metadata": {},
   "outputs": [],
   "source": [
    "dataset = dataset.query('operator_id in @list_df') # перезапишем dataset без дубликатов\n",
    "# dataset.info()"
   ]
  },
  {
   "cell_type": "code",
   "execution_count": 28,
   "id": "0b9f06d2",
   "metadata": {},
   "outputs": [],
   "source": [
    "# print(dataset.columns.tolist())"
   ]
  },
  {
   "cell_type": "markdown",
   "metadata": {},
   "source": [
    "***Вывод:***  \n",
    "- предварительная обработка выявила пропуски и дубликаты в данных, с которыми проведена работа."
   ]
  },
  {
   "cell_type": "markdown",
   "id": "64ba9402",
   "metadata": {},
   "source": [
    "### Дополнительные расчеты "
   ]
  },
  {
   "cell_type": "code",
   "execution_count": 29,
   "id": "fb13c19e",
   "metadata": {
    "scrolled": false
   },
   "outputs": [
    {
     "data": {
      "text/html": [
       "<div>\n",
       "<style scoped>\n",
       "    .dataframe tbody tr th:only-of-type {\n",
       "        vertical-align: middle;\n",
       "    }\n",
       "\n",
       "    .dataframe tbody tr th {\n",
       "        vertical-align: top;\n",
       "    }\n",
       "\n",
       "    .dataframe thead th {\n",
       "        text-align: right;\n",
       "    }\n",
       "</style>\n",
       "<table border=\"1\" class=\"dataframe\">\n",
       "  <thead>\n",
       "    <tr style=\"text-align: right;\">\n",
       "      <th></th>\n",
       "      <th>user_id</th>\n",
       "      <th>date</th>\n",
       "      <th>direction</th>\n",
       "      <th>internal</th>\n",
       "      <th>operator_id</th>\n",
       "      <th>is_missed_call</th>\n",
       "      <th>calls_count</th>\n",
       "      <th>call_duration</th>\n",
       "      <th>total_call_duration</th>\n",
       "      <th>data</th>\n",
       "      <th>total_duration_1</th>\n",
       "      <th>call_duration_1</th>\n",
       "      <th>wait_duration</th>\n",
       "    </tr>\n",
       "  </thead>\n",
       "  <tbody>\n",
       "    <tr>\n",
       "      <th>0</th>\n",
       "      <td>166377</td>\n",
       "      <td>2019-08-04 00:00:00+03:00</td>\n",
       "      <td>in</td>\n",
       "      <td>False</td>\n",
       "      <td>1</td>\n",
       "      <td>True</td>\n",
       "      <td>2</td>\n",
       "      <td>0</td>\n",
       "      <td>4</td>\n",
       "      <td>2019-08-04</td>\n",
       "      <td>2</td>\n",
       "      <td>0</td>\n",
       "      <td>2</td>\n",
       "    </tr>\n",
       "    <tr>\n",
       "      <th>1</th>\n",
       "      <td>166377</td>\n",
       "      <td>2019-08-05 00:00:00+03:00</td>\n",
       "      <td>out</td>\n",
       "      <td>True</td>\n",
       "      <td>880022</td>\n",
       "      <td>True</td>\n",
       "      <td>3</td>\n",
       "      <td>0</td>\n",
       "      <td>5</td>\n",
       "      <td>2019-08-05</td>\n",
       "      <td>2</td>\n",
       "      <td>0</td>\n",
       "      <td>2</td>\n",
       "    </tr>\n",
       "    <tr>\n",
       "      <th>2</th>\n",
       "      <td>166377</td>\n",
       "      <td>2019-08-05 00:00:00+03:00</td>\n",
       "      <td>out</td>\n",
       "      <td>True</td>\n",
       "      <td>880020</td>\n",
       "      <td>True</td>\n",
       "      <td>1</td>\n",
       "      <td>0</td>\n",
       "      <td>1</td>\n",
       "      <td>2019-08-05</td>\n",
       "      <td>1</td>\n",
       "      <td>0</td>\n",
       "      <td>1</td>\n",
       "    </tr>\n",
       "  </tbody>\n",
       "</table>\n",
       "</div>"
      ],
      "text/plain": [
       "   user_id                       date direction internal  operator_id  \\\n",
       "0   166377  2019-08-04 00:00:00+03:00        in    False            1   \n",
       "1   166377  2019-08-05 00:00:00+03:00       out     True       880022   \n",
       "2   166377  2019-08-05 00:00:00+03:00       out     True       880020   \n",
       "\n",
       "   is_missed_call  calls_count  call_duration  total_call_duration  \\\n",
       "0            True            2              0                    4   \n",
       "1            True            3              0                    5   \n",
       "2            True            1              0                    1   \n",
       "\n",
       "         data  total_duration_1  call_duration_1  wait_duration  \n",
       "0  2019-08-04                 2                0              2  \n",
       "1  2019-08-05                 2                0              2  \n",
       "2  2019-08-05                 1                0              1  "
      ]
     },
     "execution_count": 29,
     "metadata": {},
     "output_type": "execute_result"
    }
   ],
   "source": [
    "# рассчитаем среднюю длительностью одного звонка (с учетом времени ожидания) по количеству звонков\n",
    "dataset['total_duration_1'] = (dataset['total_call_duration'] / dataset['calls_count']).round()\n",
    "# рассчитаем среднюю длительностью одного звонка (без учета времени ожидания)\n",
    "dataset['call_duration_1'] = dataset['call_duration'] / dataset['calls_count']\n",
    "# рассчитаем среднюю длительность ожидания как отношение разницы между\n",
    "# длительностью звонка (с учетом времени ожидания) и длительностью звонка (без учета времени ожидания) \n",
    "# к количеству звонков\n",
    "dataset['wait_duration'] = ((dataset['total_call_duration'] - dataset['call_duration']) / dataset['calls_count']).round()\n",
    "dataset[['total_duration_1', 'call_duration_1', 'wait_duration']] = dataset[['total_duration_1', 'call_duration_1', 'wait_duration']].\\\n",
    "                                                                    astype('int64') # преобразуем к целым числам\n",
    "dataset.head(3)"
   ]
  },
  {
   "cell_type": "markdown",
   "id": "d258150a",
   "metadata": {},
   "source": [
    "***Описание данных:***\n",
    "- total_duration_1 — средняя длительность одного звонка (с учетом времени ожидания);\n",
    "- call_duration_1 — средняя длительность одного звонка (без учета времени ожидания);\n",
    "- wait_duration — средняя длительность времени ожидания."
   ]
  },
  {
   "cell_type": "code",
   "execution_count": 30,
   "id": "167c9bcb",
   "metadata": {},
   "outputs": [
    {
     "name": "stdout",
     "output_type": "stream",
     "text": [
      "Количество операторов, дозвонившихся до абонентов, составляет:  24949 .\n",
      "Общее количество операторов составляет:  43996 .\n"
     ]
    }
   ],
   "source": [
    "# очистим данные от операторов, которые не общались с клиентами (время разговора = 0),\n",
    "# или время ожидания равно общей продолжительности разговора\n",
    "df = dataset.query('call_duration_1 > 0')\n",
    "# df.info()\n",
    "print('Количество операторов, дозвонившихся до абонентов, составляет: ', df.shape[0], '.')\n",
    "print('Общее количество операторов составляет: ', dataset.shape[0], '.')"
   ]
  },
  {
   "cell_type": "markdown",
   "id": "7ea62c1a",
   "metadata": {},
   "source": [
    "***Так как значительная часть операторов не дозванивалась до абонентов, оставим данные по ним в таблице.***"
   ]
  },
  {
   "cell_type": "code",
   "execution_count": 31,
   "id": "9b477696",
   "metadata": {},
   "outputs": [],
   "source": [
    "# сохраним измененные данные в новую переменную df, \n",
    "# dataset оставляем в качестве резерного варианта на случай необходимости восстановления\n",
    "df = dataset.copy()"
   ]
  },
  {
   "cell_type": "markdown",
   "id": "19b9ef50",
   "metadata": {},
   "source": [
    "**Построим графики распределения для переменных**"
   ]
  },
  {
   "cell_type": "markdown",
   "id": "70c4a61e",
   "metadata": {},
   "source": [
    "***Таблица clients***"
   ]
  },
  {
   "cell_type": "code",
   "execution_count": 32,
   "id": "c01f7de0",
   "metadata": {
    "scrolled": true
   },
   "outputs": [],
   "source": [
    "plan_group = clients.groupby(['tariff_plan']).agg(count=('user_id', 'count')).reset_index()\n",
    "# plan_group.head()"
   ]
  },
  {
   "cell_type": "code",
   "execution_count": 33,
   "id": "d0581026",
   "metadata": {
    "scrolled": true
   },
   "outputs": [
    {
     "data": {
      "image/png": "[encoded data removed]",
      "text/plain": [
       "<Figure size 360x360 with 1 Axes>"
      ]
     },
     "metadata": {
      "needs_background": "light"
     },
     "output_type": "display_data"
    }
   ],
   "source": [
    "plt.figure(figsize=(5, 5))\n",
    "sns.barplot(x=plan_group['tariff_plan'], y=plan_group['count'])\n",
    "plt.xlabel('тарифный план', fontsize = 14)\n",
    "plt.ylabel('количсетво абонентов', fontsize = 14)\n",
    "plt.title('Распределение абонентов по тарифам', fontsize = 14)\n",
    "plt.grid(True)\n",
    "plt.show()"
   ]
  },
  {
   "cell_type": "markdown",
   "metadata": {},
   "source": [
    "***Вывод:***\n",
    "- тарифный план А наименее востребован, и им пользуются около 70 клиентов;\n",
    "- тарифный план В востребован у 250 клиентов;\n",
    "- тарифный план С наиболее востребован, им пользуется примерно 400 клиентов."
   ]
  },
  {
   "cell_type": "markdown",
   "id": "258a81fa",
   "metadata": {},
   "source": [
    "***Таблица dataset***"
   ]
  },
  {
   "cell_type": "markdown",
   "id": "acf6a421",
   "metadata": {},
   "source": [
    "***Построим графики динамики количества звонков в зависимости от направления вызова direction (исходящий out/входящий in)  \n",
    "и типа internal (внутренний True/внешний False).***"
   ]
  },
  {
   "cell_type": "code",
   "execution_count": 34,
   "metadata": {},
   "outputs": [],
   "source": [
    "df['internal'] = df['internal'].map({True: 'internal-True', False: 'internal-False'})\n",
    "# df.head(3)"
   ]
  },
  {
   "cell_type": "code",
   "execution_count": 35,
   "id": "a4dc230d",
   "metadata": {
    "scrolled": true
   },
   "outputs": [],
   "source": [
    "direction_group = df.pivot_table(index=['data'], columns = 'direction',  values = 'calls_count', aggfunc = 'sum').reset_index()\n",
    "# direction_group.head(3)"
   ]
  },
  {
   "cell_type": "code",
   "execution_count": 36,
   "id": "dc11ed2a",
   "metadata": {
    "scrolled": false
   },
   "outputs": [],
   "source": [
    "internal_group = df.pivot_table(index=['data'], columns = 'internal',  values = 'calls_count', aggfunc = 'sum').reset_index()\n",
    "# internal_group.head(3)"
   ]
  },
  {
   "cell_type": "code",
   "execution_count": 37,
   "id": "7dc8e17a",
   "metadata": {},
   "outputs": [
    {
     "data": {
      "text/html": [
       "<div>\n",
       "<style scoped>\n",
       "    .dataframe tbody tr th:only-of-type {\n",
       "        vertical-align: middle;\n",
       "    }\n",
       "\n",
       "    .dataframe tbody tr th {\n",
       "        vertical-align: top;\n",
       "    }\n",
       "\n",
       "    .dataframe thead th {\n",
       "        text-align: right;\n",
       "    }\n",
       "</style>\n",
       "<table border=\"1\" class=\"dataframe\">\n",
       "  <thead>\n",
       "    <tr style=\"text-align: right;\">\n",
       "      <th></th>\n",
       "      <th>data</th>\n",
       "      <th>in</th>\n",
       "      <th>out</th>\n",
       "      <th>internal-False</th>\n",
       "      <th>internal-True</th>\n",
       "    </tr>\n",
       "  </thead>\n",
       "  <tbody>\n",
       "    <tr>\n",
       "      <th>0</th>\n",
       "      <td>2019-08-02</td>\n",
       "      <td>2.0</td>\n",
       "      <td>19.0</td>\n",
       "      <td>18.0</td>\n",
       "      <td>3.0</td>\n",
       "    </tr>\n",
       "    <tr>\n",
       "      <th>1</th>\n",
       "      <td>2019-08-03</td>\n",
       "      <td>2.0</td>\n",
       "      <td>26.0</td>\n",
       "      <td>27.0</td>\n",
       "      <td>1.0</td>\n",
       "    </tr>\n",
       "    <tr>\n",
       "      <th>2</th>\n",
       "      <td>2019-08-04</td>\n",
       "      <td>2.0</td>\n",
       "      <td>4.0</td>\n",
       "      <td>4.0</td>\n",
       "      <td>2.0</td>\n",
       "    </tr>\n",
       "  </tbody>\n",
       "</table>\n",
       "</div>"
      ],
      "text/plain": [
       "         data   in   out  internal-False  internal-True\n",
       "0  2019-08-02  2.0  19.0            18.0            3.0\n",
       "1  2019-08-03  2.0  26.0            27.0            1.0\n",
       "2  2019-08-04  2.0   4.0             4.0            2.0"
      ]
     },
     "execution_count": 37,
     "metadata": {},
     "output_type": "execute_result"
    }
   ],
   "source": [
    "# объеденим таблицы\n",
    "di_group = direction_group.merge(internal_group, how='inner')\n",
    "di_group.head(3)"
   ]
  },
  {
   "cell_type": "code",
   "execution_count": 38,
   "id": "0ebac38f",
   "metadata": {
    "scrolled": true
   },
   "outputs": [
    {
     "data": {
      "image/png": "[encoded data removed]",
      "text/plain": [
       "<Figure size 720x360 with 1 Axes>"
      ]
     },
     "metadata": {
      "needs_background": "light"
     },
     "output_type": "display_data"
    },
    {
     "data": {
      "text/plain": [
       "<Figure size 432x288 with 0 Axes>"
      ]
     },
     "metadata": {},
     "output_type": "display_data"
    },
    {
     "data": {
      "image/png": "[encoded data removed]",
      "text/plain": [
       "<Figure size 720x360 with 1 Axes>"
      ]
     },
     "metadata": {
      "needs_background": "light"
     },
     "output_type": "display_data"
    },
    {
     "data": {
      "text/plain": [
       "<Figure size 432x288 with 0 Axes>"
      ]
     },
     "metadata": {},
     "output_type": "display_data"
    },
    {
     "data": {
      "image/png": "[encoded data removed]",
      "text/plain": [
       "<Figure size 720x360 with 1 Axes>"
      ]
     },
     "metadata": {
      "needs_background": "light"
     },
     "output_type": "display_data"
    },
    {
     "data": {
      "text/plain": [
       "<Figure size 432x288 with 0 Axes>"
      ]
     },
     "metadata": {},
     "output_type": "display_data"
    },
    {
     "data": {
      "image/png": "[encoded data removed]",
      "text/plain": [
       "<Figure size 720x360 with 1 Axes>"
      ]
     },
     "metadata": {
      "needs_background": "light"
     },
     "output_type": "display_data"
    },
    {
     "data": {
      "text/plain": [
       "<Figure size 432x288 with 0 Axes>"
      ]
     },
     "metadata": {},
     "output_type": "display_data"
    }
   ],
   "source": [
    "for column in ['in','out', 'internal-False', 'internal-True']:\n",
    "    plt.figure(figsize = (10, 5))\n",
    "    plt.plot(di_group['data'].tolist(), di_group[column].tolist(), \n",
    "    alpha = .7, color = 'orange', linestyle = 'solid')\n",
    "    plt.xlabel('дата', fontsize = 14, color = 'black', fontstyle = 'normal')\n",
    "    plt.ylabel('количество звонков', fontsize = 14, color = 'black', fontstyle = 'normal')\n",
    "    # размер, стиль, цвет, толщина шрифта\n",
    "    plt.title('График динамики звонков по признаку: '+column, fontsize = 16, color = 'black', loc = 'center')\n",
    "    # название, размер, цвет, выравнивание заголовка\n",
    "    plt.xticks(rotation = 45) # развернем значение осей чтоб не было наложения\n",
    "    plt.yticks(rotation = 45)\n",
    "    plt.grid(True)\n",
    "    # линии разметки\n",
    "    plt.show()\n",
    "    plt.tight_layout()"
   ]
  },
  {
   "cell_type": "markdown",
   "metadata": {},
   "source": [
    "***Вывод:***\n",
    "- вид графиков показывает периодические спады, которые происходят по всем признакам в одни и те же дни (2019-08-04, 2019-08-11, 2019-08-18 и тд), то есть имеют выраженную недельную цикличность со спадом в воскресенье. Возможно является выходным днем в колл-центре, или снижено количество операторов на линии (проверим это предположение).  \n",
    "День недели смотрел по календарю, как еще это сделать не знаю, как проверить гипотезу тоже не сообразил. Например если сформулировать нулевую как количество операторов на линиях одинаково каждый день, потом группируем по дням недели и потом затык. Построил графиком ниже."
   ]
  },
  {
   "cell_type": "markdown",
   "metadata": {},
   "source": [
    "***Вариант с помощью цикла и distplot вполне подходящий, но для дискретных переменных лучше использовать столбцовые графики с накоплением, а гистограммы лучше подойдут для непрерывных переменных***"
   ]
  },
  {
   "cell_type": "code",
   "execution_count": 39,
   "metadata": {
    "scrolled": true
   },
   "outputs": [
    {
     "data": {
      "text/plain": [
       "<Figure size 864x360 with 0 Axes>"
      ]
     },
     "metadata": {},
     "output_type": "display_data"
    },
    {
     "data": {
      "image/png": "[encoded data removed]",
      "text/plain": [
       "<Figure size 432x288 with 1 Axes>"
      ]
     },
     "metadata": {
      "needs_background": "light"
     },
     "output_type": "display_data"
    },
    {
     "data": {
      "text/plain": [
       "<Figure size 864x360 with 0 Axes>"
      ]
     },
     "metadata": {},
     "output_type": "display_data"
    },
    {
     "data": {
      "image/png": "[encoded data removed]",
      "text/plain": [
       "<Figure size 432x288 with 1 Axes>"
      ]
     },
     "metadata": {
      "needs_background": "light"
     },
     "output_type": "display_data"
    },
    {
     "data": {
      "text/plain": [
       "<Figure size 864x360 with 0 Axes>"
      ]
     },
     "metadata": {},
     "output_type": "display_data"
    },
    {
     "data": {
      "image/png": "[encoded data removed]",
      "text/plain": [
       "<Figure size 432x288 with 1 Axes>"
      ]
     },
     "metadata": {
      "needs_background": "light"
     },
     "output_type": "display_data"
    }
   ],
   "source": [
    "for column in ['total_duration_1', 'call_duration_1', 'wait_duration']:\n",
    "    plt.figure(figsize=(12, 5))\n",
    "    df.plot(kind = 'hist', y = column, bins=40, range=(0, 80), alpha=.7, color='green')\n",
    "    plt.title(column)\n",
    "    plt.grid(True)\n",
    "    plt.legend('')\n",
    "    plt.xlabel('Продолжительность звонка')\n",
    "    plt.ylabel('Частота')\n",
    "    plt.title('Распределение продолжительности '+column, size=16)\n",
    "    plt.show()"
   ]
  },
  {
   "cell_type": "markdown",
   "metadata": {},
   "source": [
    "***Выводы:***\n",
    "- график распределения продолжительности разговора с учетом времени ожидания показывает, что большинство звонков имеют продолжительность 0 минут (разговор не состоялся) или находятся в интервале от 20 до 30 минут;\n",
    "- график распределения продолжительности разговора без учета времени ожидания показывает, что большинство звонков имеют продолжительность 0 минут (разговор не состоялся), количество остальных звонков равномерно распределено по продолжительности;\n",
    "- график распределения продолжительности времени ожидания показывает, что операторов ожидают ответа от 10 до 20 минут."
   ]
  },
  {
   "cell_type": "code",
   "execution_count": 40,
   "metadata": {},
   "outputs": [
    {
     "data": {
      "text/html": [
       "<div>\n",
       "<style scoped>\n",
       "    .dataframe tbody tr th:only-of-type {\n",
       "        vertical-align: middle;\n",
       "    }\n",
       "\n",
       "    .dataframe tbody tr th {\n",
       "        vertical-align: top;\n",
       "    }\n",
       "\n",
       "    .dataframe thead th {\n",
       "        text-align: right;\n",
       "    }\n",
       "</style>\n",
       "<table border=\"1\" class=\"dataframe\">\n",
       "  <thead>\n",
       "    <tr style=\"text-align: right;\">\n",
       "      <th></th>\n",
       "      <th>total_duration_1</th>\n",
       "      <th>count</th>\n",
       "    </tr>\n",
       "  </thead>\n",
       "  <tbody>\n",
       "    <tr>\n",
       "      <th>0</th>\n",
       "      <td>0</td>\n",
       "      <td>1275</td>\n",
       "    </tr>\n",
       "    <tr>\n",
       "      <th>1</th>\n",
       "      <td>2</td>\n",
       "      <td>1167</td>\n",
       "    </tr>\n",
       "    <tr>\n",
       "      <th>2</th>\n",
       "      <td>22</td>\n",
       "      <td>686</td>\n",
       "    </tr>\n",
       "    <tr>\n",
       "      <th>3</th>\n",
       "      <td>24</td>\n",
       "      <td>686</td>\n",
       "    </tr>\n",
       "    <tr>\n",
       "      <th>4</th>\n",
       "      <td>18</td>\n",
       "      <td>656</td>\n",
       "    </tr>\n",
       "  </tbody>\n",
       "</table>\n",
       "</div>"
      ],
      "text/plain": [
       "   total_duration_1  count\n",
       "0                 0   1275\n",
       "1                 2   1167\n",
       "2                22    686\n",
       "3                24    686\n",
       "4                18    656"
      ]
     },
     "execution_count": 40,
     "metadata": {},
     "output_type": "execute_result"
    }
   ],
   "source": [
    "df['total_duration_1'].value_counts().reset_index().head(5).sort_values(by='total_duration_1', ascending=False).\\\n",
    "                        rename(columns = {'index' : 'total_duration_1', 'total_duration_1' : 'count'})"
   ]
  },
  {
   "cell_type": "code",
   "execution_count": 41,
   "metadata": {
    "scrolled": true
   },
   "outputs": [
    {
     "data": {
      "text/html": [
       "<div>\n",
       "<style scoped>\n",
       "    .dataframe tbody tr th:only-of-type {\n",
       "        vertical-align: middle;\n",
       "    }\n",
       "\n",
       "    .dataframe tbody tr th {\n",
       "        vertical-align: top;\n",
       "    }\n",
       "\n",
       "    .dataframe thead th {\n",
       "        text-align: right;\n",
       "    }\n",
       "</style>\n",
       "<table border=\"1\" class=\"dataframe\">\n",
       "  <thead>\n",
       "    <tr style=\"text-align: right;\">\n",
       "      <th></th>\n",
       "      <th>call_duration_1</th>\n",
       "      <th>count</th>\n",
       "    </tr>\n",
       "  </thead>\n",
       "  <tbody>\n",
       "    <tr>\n",
       "      <th>0</th>\n",
       "      <td>0</td>\n",
       "      <td>19047</td>\n",
       "    </tr>\n",
       "    <tr>\n",
       "      <th>1</th>\n",
       "      <td>44</td>\n",
       "      <td>200</td>\n",
       "    </tr>\n",
       "    <tr>\n",
       "      <th>2</th>\n",
       "      <td>60</td>\n",
       "      <td>194</td>\n",
       "    </tr>\n",
       "    <tr>\n",
       "      <th>3</th>\n",
       "      <td>54</td>\n",
       "      <td>188</td>\n",
       "    </tr>\n",
       "    <tr>\n",
       "      <th>4</th>\n",
       "      <td>34</td>\n",
       "      <td>187</td>\n",
       "    </tr>\n",
       "  </tbody>\n",
       "</table>\n",
       "</div>"
      ],
      "text/plain": [
       "   call_duration_1  count\n",
       "0                0  19047\n",
       "1               44    200\n",
       "2               60    194\n",
       "3               54    188\n",
       "4               34    187"
      ]
     },
     "execution_count": 41,
     "metadata": {},
     "output_type": "execute_result"
    }
   ],
   "source": [
    "df['call_duration_1'].value_counts().reset_index().head(5).sort_values(by='call_duration_1', ascending=False).\\\n",
    "                        rename(columns = {'index' : 'call_duration_1', 'call_duration_1' : 'count'})"
   ]
  },
  {
   "cell_type": "code",
   "execution_count": 42,
   "metadata": {},
   "outputs": [
    {
     "data": {
      "text/html": [
       "<div>\n",
       "<style scoped>\n",
       "    .dataframe tbody tr th:only-of-type {\n",
       "        vertical-align: middle;\n",
       "    }\n",
       "\n",
       "    .dataframe tbody tr th {\n",
       "        vertical-align: top;\n",
       "    }\n",
       "\n",
       "    .dataframe thead th {\n",
       "        text-align: right;\n",
       "    }\n",
       "</style>\n",
       "<table border=\"1\" class=\"dataframe\">\n",
       "  <thead>\n",
       "    <tr style=\"text-align: right;\">\n",
       "      <th></th>\n",
       "      <th>wait_duration</th>\n",
       "      <th>count</th>\n",
       "    </tr>\n",
       "  </thead>\n",
       "  <tbody>\n",
       "    <tr>\n",
       "      <th>0</th>\n",
       "      <td>12</td>\n",
       "      <td>1846</td>\n",
       "    </tr>\n",
       "    <tr>\n",
       "      <th>1</th>\n",
       "      <td>14</td>\n",
       "      <td>1802</td>\n",
       "    </tr>\n",
       "    <tr>\n",
       "      <th>2</th>\n",
       "      <td>10</td>\n",
       "      <td>1798</td>\n",
       "    </tr>\n",
       "    <tr>\n",
       "      <th>3</th>\n",
       "      <td>16</td>\n",
       "      <td>1781</td>\n",
       "    </tr>\n",
       "    <tr>\n",
       "      <th>4</th>\n",
       "      <td>18</td>\n",
       "      <td>1765</td>\n",
       "    </tr>\n",
       "  </tbody>\n",
       "</table>\n",
       "</div>"
      ],
      "text/plain": [
       "   wait_duration  count\n",
       "0             12   1846\n",
       "1             14   1802\n",
       "2             10   1798\n",
       "3             16   1781\n",
       "4             18   1765"
      ]
     },
     "execution_count": 42,
     "metadata": {},
     "output_type": "execute_result"
    }
   ],
   "source": [
    "df['wait_duration'].value_counts().reset_index().head(5).sort_values(by='wait_duration', ascending=False).\\\n",
    "                        rename(columns = {'index' : 'wait_duration', 'wait_duration' : 'count'})"
   ]
  },
  {
   "cell_type": "markdown",
   "metadata": {},
   "source": [
    "### Обработка выбросов"
   ]
  },
  {
   "cell_type": "markdown",
   "metadata": {},
   "source": [
    "***Определим не типичные параметры (выбросы) для столбцов 'total_duration_1', 'call_duration_1', 'wait_duration'.***"
   ]
  },
  {
   "cell_type": "code",
   "execution_count": 43,
   "metadata": {},
   "outputs": [],
   "source": [
    "def min_max_quant(data, column): # напишем функцию для определения выбросов\n",
    "    min_quant = data[column].quantile(0.25)-1.5*(data[column].quantile(0.75)-data[column].quantile(0.25))\n",
    "    max_quant = data[column].quantile(0.75)+1.5*(data[column].quantile(0.75)-data[column].quantile(0.25))\n",
    "    return print('Значения, меньше', min_quant, 'считаем выбросами столбца', [column]), print('Значения, больше', max_quant, 'считаем выбросами столбца', [column])"
   ]
  },
  {
   "cell_type": "code",
   "execution_count": 44,
   "metadata": {
    "scrolled": true
   },
   "outputs": [
    {
     "name": "stdout",
     "output_type": "stream",
     "text": [
      "Значения, меньше -107.5 считаем выбросами столбца ['total_duration_1']\n",
      "Значения, больше 232.5 считаем выбросами столбца ['total_duration_1']\n"
     ]
    },
    {
     "data": {
      "text/plain": [
       "(None, None)"
      ]
     },
     "execution_count": 44,
     "metadata": {},
     "output_type": "execute_result"
    }
   ],
   "source": [
    "min_max_quant(df, 'total_duration_1')"
   ]
  },
  {
   "cell_type": "code",
   "execution_count": 45,
   "metadata": {},
   "outputs": [
    {
     "name": "stdout",
     "output_type": "stream",
     "text": [
      "Значения, меньше -135.0 считаем выбросами столбца ['call_duration_1']\n",
      "Значения, больше 225.0 считаем выбросами столбца ['call_duration_1']\n"
     ]
    },
    {
     "data": {
      "text/plain": [
       "(None, None)"
      ]
     },
     "execution_count": 45,
     "metadata": {},
     "output_type": "execute_result"
    }
   ],
   "source": [
    "min_max_quant(df, 'call_duration_1')"
   ]
  },
  {
   "cell_type": "code",
   "execution_count": 46,
   "metadata": {},
   "outputs": [
    {
     "name": "stdout",
     "output_type": "stream",
     "text": [
      "Значения, меньше -13.0 считаем выбросами столбца ['wait_duration']\n",
      "Значения, больше 43.0 считаем выбросами столбца ['wait_duration']\n"
     ]
    },
    {
     "data": {
      "text/plain": [
       "(None, None)"
      ]
     },
     "execution_count": 46,
     "metadata": {},
     "output_type": "execute_result"
    }
   ],
   "source": [
    "min_max_quant(df, 'wait_duration')"
   ]
  },
  {
   "cell_type": "code",
   "execution_count": 47,
   "metadata": {},
   "outputs": [
    {
     "data": {
      "text/plain": [
       "<Figure size 360x360 with 0 Axes>"
      ]
     },
     "metadata": {},
     "output_type": "display_data"
    },
    {
     "data": {
      "image/png": "[encoded data removed]",
      "text/plain": [
       "<Figure size 360x360 with 1 Axes>"
      ]
     },
     "metadata": {
      "needs_background": "light"
     },
     "output_type": "display_data"
    },
    {
     "data": {
      "text/plain": [
       "<Figure size 360x360 with 0 Axes>"
      ]
     },
     "metadata": {},
     "output_type": "display_data"
    },
    {
     "data": {
      "image/png": "[encoded data removed]",
      "text/plain": [
       "<Figure size 360x360 with 1 Axes>"
      ]
     },
     "metadata": {
      "needs_background": "light"
     },
     "output_type": "display_data"
    },
    {
     "data": {
      "text/plain": [
       "<Figure size 360x360 with 0 Axes>"
      ]
     },
     "metadata": {},
     "output_type": "display_data"
    },
    {
     "data": {
      "image/png": "[encoded data removed]",
      "text/plain": [
       "<Figure size 360x360 with 1 Axes>"
      ]
     },
     "metadata": {
      "needs_background": "light"
     },
     "output_type": "display_data"
    },
    {
     "data": {
      "text/plain": [
       "<Figure size 360x360 with 0 Axes>"
      ]
     },
     "metadata": {},
     "output_type": "display_data"
    },
    {
     "data": {
      "image/png": "[encoded data removed]",
      "text/plain": [
       "<Figure size 360x360 with 1 Axes>"
      ]
     },
     "metadata": {
      "needs_background": "light"
     },
     "output_type": "display_data"
    },
    {
     "data": {
      "text/plain": [
       "<Figure size 360x360 with 0 Axes>"
      ]
     },
     "metadata": {},
     "output_type": "display_data"
    },
    {
     "data": {
      "image/png": "[encoded data removed]",
      "text/plain": [
       "<Figure size 360x360 with 1 Axes>"
      ]
     },
     "metadata": {
      "needs_background": "light"
     },
     "output_type": "display_data"
    },
    {
     "data": {
      "text/plain": [
       "<Figure size 360x360 with 0 Axes>"
      ]
     },
     "metadata": {},
     "output_type": "display_data"
    },
    {
     "data": {
      "image/png": "[encoded data removed]",
      "text/plain": [
       "<Figure size 360x360 with 1 Axes>"
      ]
     },
     "metadata": {
      "needs_background": "light"
     },
     "output_type": "display_data"
    }
   ],
   "source": [
    "# оценим визуально выбросы по столбцам в зависимости от direction' и 'internal'\n",
    "for column in ['total_duration_1', 'call_duration_1', 'wait_duration']:\n",
    "    for d in ['direction', 'internal']:\n",
    "        plt.figure(figsize=(5, 5))\n",
    "        sns.catplot(x = d, y = column, kind='boxen', data = df)\n",
    "        plt.title('Разделение по признаку:  '+ column)\n",
    "        plt.grid(True)\n",
    "        plt.show()"
   ]
  },
  {
   "cell_type": "markdown",
   "metadata": {},
   "source": [
    "***Отфильтруем данные по выбросам***"
   ]
  },
  {
   "cell_type": "code",
   "execution_count": 48,
   "metadata": {},
   "outputs": [],
   "source": [
    "def min_quant(data, column): #напишем функцию для определения выбросов-min\n",
    "    min_quant = data[column].quantile(0.25)-1.5*(data[column].quantile(0.75)-data[column].quantile(0.25))\n",
    "    return min_quant\n",
    "def max_quant(data, column): #напишем функцию для определения выбросов-max\n",
    "    max_quant = data[column].quantile(0.75)+1.5*(data[column].quantile(0.75)-data[column].quantile(0.25))\n",
    "    return max_quant"
   ]
  },
  {
   "cell_type": "code",
   "execution_count": 49,
   "metadata": {},
   "outputs": [],
   "source": [
    "df_filtered = df.loc[(df['total_duration_1'] >= min_quant(df, 'total_duration_1')) & (df['total_duration_1'] <= max_quant(df, 'total_duration_1'))&\n",
    "                        (df['call_duration_1'] >= min_quant(df, 'call_duration_1')) & (df['call_duration_1'] <= max_quant(df, 'call_duration_1'))&\n",
    "                        (df['wait_duration'] >= min_quant(df, 'wait_duration')) & (df['wait_duration'] <= max_quant(df, 'wait_duration'))]"
   ]
  },
  {
   "cell_type": "code",
   "execution_count": 50,
   "metadata": {},
   "outputs": [
    {
     "name": "stdout",
     "output_type": "stream",
     "text": [
      "Количество строк до фильтрации составляет:\n",
      "43996\n",
      "Количество строк после фильтрации составляет:\n",
      "39637\n",
      "Удалено строк:\n",
      "4359\n"
     ]
    }
   ],
   "source": [
    "print('Количество строк до фильтрации составляет:', df.shape[0], \n",
    "      'Количество строк после фильтрации составляет:', df_filtered.shape[0], \n",
    "      'Удалено строк:', df.shape[0]-df_filtered.shape[0], sep='\\n')"
   ]
  },
  {
   "cell_type": "markdown",
   "metadata": {},
   "source": [
    "## Кластеризация операторов"
   ]
  },
  {
   "cell_type": "markdown",
   "metadata": {},
   "source": [
    "***Разделим колл-центры в зависимости от направления вызовов 'direction' (out - исходящий вызов, in — входящий вызов).***"
   ]
  },
  {
   "cell_type": "code",
   "execution_count": 51,
   "metadata": {},
   "outputs": [
    {
     "data": {
      "text/plain": [
       "dtype('int64')"
      ]
     },
     "execution_count": 51,
     "metadata": {},
     "output_type": "execute_result"
    }
   ],
   "source": [
    "# переведем тип данных столбца is_missed_call из логического к численному,\n",
    "# под условием что если звонок является пропущенным True=1\n",
    "df_filtered['is_missed_call'] = df_filtered['is_missed_call'].map({True: 1, False: 0})\n",
    "df_filtered['is_missed_call'].dtypes"
   ]
  },
  {
   "cell_type": "code",
   "execution_count": 52,
   "metadata": {
    "scrolled": true
   },
   "outputs": [],
   "source": [
    "df_out = df_filtered.query('direction == \"out\"')\n",
    "# df_out.head(3)"
   ]
  },
  {
   "cell_type": "code",
   "execution_count": 53,
   "metadata": {},
   "outputs": [],
   "source": [
    "df_in = df_filtered.query('direction == \"in\"')\n",
    "# df_in.head(3)"
   ]
  },
  {
   "cell_type": "markdown",
   "metadata": {},
   "source": [
    "***Получим медиану по данным таблиц df_out, df_in***"
   ]
  },
  {
   "cell_type": "code",
   "execution_count": 54,
   "metadata": {},
   "outputs": [],
   "source": [
    "# данные по исходящим вызовам\n",
    "d_out = df_out[['calls_count', 'call_duration', 'total_call_duration', 'total_duration_1', 'call_duration_1', 'wait_duration']].\\\n",
    "median().reset_index().rename(columns = {'index' : 'column_name', 0 : 'median_out'})"
   ]
  },
  {
   "cell_type": "code",
   "execution_count": 55,
   "metadata": {
    "scrolled": true
   },
   "outputs": [],
   "source": [
    "# данные по входящим вызовам\n",
    "d_in = df_in[['calls_count', 'call_duration', 'total_call_duration', 'total_duration_1', 'call_duration_1', 'wait_duration']].\\\n",
    "median().reset_index().rename(columns = {'index' : 'column_name', 0 : 'median_in'})"
   ]
  },
  {
   "cell_type": "code",
   "execution_count": 56,
   "metadata": {
    "scrolled": true
   },
   "outputs": [
    {
     "data": {
      "text/html": [
       "<div>\n",
       "<style scoped>\n",
       "    .dataframe tbody tr th:only-of-type {\n",
       "        vertical-align: middle;\n",
       "    }\n",
       "\n",
       "    .dataframe tbody tr th {\n",
       "        vertical-align: top;\n",
       "    }\n",
       "\n",
       "    .dataframe thead th {\n",
       "        text-align: right;\n",
       "    }\n",
       "</style>\n",
       "<table border=\"1\" class=\"dataframe\">\n",
       "  <thead>\n",
       "    <tr style=\"text-align: right;\">\n",
       "      <th></th>\n",
       "      <th>column_name</th>\n",
       "      <th>median_out</th>\n",
       "      <th>median_in</th>\n",
       "    </tr>\n",
       "  </thead>\n",
       "  <tbody>\n",
       "    <tr>\n",
       "      <th>0</th>\n",
       "      <td>calls_count</td>\n",
       "      <td>6.0</td>\n",
       "      <td>3.0</td>\n",
       "    </tr>\n",
       "    <tr>\n",
       "      <th>1</th>\n",
       "      <td>call_duration</td>\n",
       "      <td>8.0</td>\n",
       "      <td>40.0</td>\n",
       "    </tr>\n",
       "    <tr>\n",
       "      <th>2</th>\n",
       "      <td>total_call_duration</td>\n",
       "      <td>242.0</td>\n",
       "      <td>116.0</td>\n",
       "    </tr>\n",
       "    <tr>\n",
       "      <th>3</th>\n",
       "      <td>total_duration_1</td>\n",
       "      <td>34.0</td>\n",
       "      <td>43.0</td>\n",
       "    </tr>\n",
       "    <tr>\n",
       "      <th>4</th>\n",
       "      <td>call_duration_1</td>\n",
       "      <td>6.0</td>\n",
       "      <td>28.0</td>\n",
       "    </tr>\n",
       "    <tr>\n",
       "      <th>5</th>\n",
       "      <td>wait_duration</td>\n",
       "      <td>15.0</td>\n",
       "      <td>12.0</td>\n",
       "    </tr>\n",
       "  </tbody>\n",
       "</table>\n",
       "</div>"
      ],
      "text/plain": [
       "           column_name  median_out  median_in\n",
       "0          calls_count         6.0        3.0\n",
       "1        call_duration         8.0       40.0\n",
       "2  total_call_duration       242.0      116.0\n",
       "3     total_duration_1        34.0       43.0\n",
       "4      call_duration_1         6.0       28.0\n",
       "5        wait_duration        15.0       12.0"
      ]
     },
     "execution_count": 56,
     "metadata": {},
     "output_type": "execute_result"
    }
   ],
   "source": [
    "out_in_total = d_out.merge(d_in, how = 'inner') # объеденим фреймы\n",
    "out_in_total"
   ]
  },
  {
   "cell_type": "markdown",
   "metadata": {},
   "source": [
    "***Вывод***  \n",
    "Операторы, работающие с исходящими вызовами:  \n",
    "- совершают большее число звонков, в среднем в 2 раза;\n",
    "- имеют меньшее время разговора (с учетом времени ожидания);\n",
    "- имеют значительно меньшее время чистого разговора;\n",
    "- имеют более длительное время ожидания."
   ]
  },
  {
   "cell_type": "markdown",
   "metadata": {},
   "source": [
    "***Установим пороги эффективности операторов, ориентируясь на медиану набора данных***  \n",
    "Входящий вызов:\n",
    "- количество звонков более 3;\n",
    "- время ожидания не более 12.\n",
    "\n",
    "Исходящий  вызов:\n",
    "- количество звонков более 6;\n",
    "- продолжительность разговора более 6."
   ]
  },
  {
   "cell_type": "markdown",
   "metadata": {},
   "source": [
    "***Для исходящих вызовов основное значение имеет количество звонков, которое совершает оператор и продолжительность разговора, в процессе которого происходит общение с клиентом, прр этом время ожидания не может оказывать существенную роль, так как в большей степени зависит не о оператора, а от клиента.  \n",
    "Для входящих вызовов основное значение имеет количество пропущенных звонков, которое принимает оператор, и время ожидания, которое играет важную роль при клиентоориентированном подходе, потому что при значительном времени ожидания клиент может перестать пользоваться услугами колл-центра, в то же время продолжительность разговора здесь в большей степени зависит от клиента.***"
   ]
  },
  {
   "cell_type": "markdown",
   "metadata": {},
   "source": [
    "***Выделим операторов по эффективности на исходящих вызовах***"
   ]
  },
  {
   "cell_type": "code",
   "execution_count": 57,
   "metadata": {},
   "outputs": [],
   "source": [
    "# напишем функцию для определения эффективности операторов исходящих вызовов\n",
    "def effect_group_out(row):\n",
    "    calls_count = row['calls_count']\n",
    "    call_duration_1 = row['call_duration_1']\n",
    "    if calls_count >= 6:\n",
    "        if call_duration_1 >= 6:\n",
    "            return 'yes'\n",
    "    return 'no'\n",
    "df_out['effect'] = df_out.apply(effect_group_out, axis = 1)"
   ]
  },
  {
   "cell_type": "code",
   "execution_count": 58,
   "metadata": {},
   "outputs": [
    {
     "data": {
      "text/html": [
       "<div>\n",
       "<style scoped>\n",
       "    .dataframe tbody tr th:only-of-type {\n",
       "        vertical-align: middle;\n",
       "    }\n",
       "\n",
       "    .dataframe tbody tr th {\n",
       "        vertical-align: top;\n",
       "    }\n",
       "\n",
       "    .dataframe thead th {\n",
       "        text-align: right;\n",
       "    }\n",
       "</style>\n",
       "<table border=\"1\" class=\"dataframe\">\n",
       "  <thead>\n",
       "    <tr style=\"text-align: right;\">\n",
       "      <th></th>\n",
       "      <th>user_id</th>\n",
       "      <th>date</th>\n",
       "      <th>direction</th>\n",
       "      <th>internal</th>\n",
       "      <th>operator_id</th>\n",
       "      <th>is_missed_call</th>\n",
       "      <th>calls_count</th>\n",
       "      <th>call_duration</th>\n",
       "      <th>total_call_duration</th>\n",
       "      <th>data</th>\n",
       "      <th>total_duration_1</th>\n",
       "      <th>call_duration_1</th>\n",
       "      <th>wait_duration</th>\n",
       "      <th>effect</th>\n",
       "    </tr>\n",
       "  </thead>\n",
       "  <tbody>\n",
       "    <tr>\n",
       "      <th>1</th>\n",
       "      <td>166377</td>\n",
       "      <td>2019-08-05 00:00:00+03:00</td>\n",
       "      <td>out</td>\n",
       "      <td>internal-True</td>\n",
       "      <td>880022</td>\n",
       "      <td>1</td>\n",
       "      <td>3</td>\n",
       "      <td>0</td>\n",
       "      <td>5</td>\n",
       "      <td>2019-08-05</td>\n",
       "      <td>2</td>\n",
       "      <td>0</td>\n",
       "      <td>2</td>\n",
       "      <td>no</td>\n",
       "    </tr>\n",
       "    <tr>\n",
       "      <th>2</th>\n",
       "      <td>166377</td>\n",
       "      <td>2019-08-05 00:00:00+03:00</td>\n",
       "      <td>out</td>\n",
       "      <td>internal-True</td>\n",
       "      <td>880020</td>\n",
       "      <td>1</td>\n",
       "      <td>1</td>\n",
       "      <td>0</td>\n",
       "      <td>1</td>\n",
       "      <td>2019-08-05</td>\n",
       "      <td>1</td>\n",
       "      <td>0</td>\n",
       "      <td>1</td>\n",
       "      <td>no</td>\n",
       "    </tr>\n",
       "  </tbody>\n",
       "</table>\n",
       "</div>"
      ],
      "text/plain": [
       "   user_id                       date direction       internal  operator_id  \\\n",
       "1   166377  2019-08-05 00:00:00+03:00       out  internal-True       880022   \n",
       "2   166377  2019-08-05 00:00:00+03:00       out  internal-True       880020   \n",
       "\n",
       "   is_missed_call  calls_count  call_duration  total_call_duration  \\\n",
       "1               1            3              0                    5   \n",
       "2               1            1              0                    1   \n",
       "\n",
       "         data  total_duration_1  call_duration_1  wait_duration effect  \n",
       "1  2019-08-05                 2                0              2     no  \n",
       "2  2019-08-05                 1                0              1     no  "
      ]
     },
     "execution_count": 58,
     "metadata": {},
     "output_type": "execute_result"
    }
   ],
   "source": [
    "df_out.head(2)"
   ]
  },
  {
   "cell_type": "code",
   "execution_count": 59,
   "metadata": {},
   "outputs": [],
   "source": [
    "# напишем функцию для определения эффективности операторов входящих вызовов\n",
    "def effect_group_in(row):\n",
    "    is_missed_call = row['is_missed_call']\n",
    "    wait_duration = row['wait_duration']\n",
    "    if is_missed_call == 0:\n",
    "        if wait_duration <= 12:\n",
    "            return 'yes'\n",
    "    return 'no'\n",
    "df_in['effect'] = df_in.apply(effect_group_in, axis = 1)"
   ]
  },
  {
   "cell_type": "code",
   "execution_count": 60,
   "metadata": {
    "scrolled": true
   },
   "outputs": [
    {
     "data": {
      "text/html": [
       "<div>\n",
       "<style scoped>\n",
       "    .dataframe tbody tr th:only-of-type {\n",
       "        vertical-align: middle;\n",
       "    }\n",
       "\n",
       "    .dataframe tbody tr th {\n",
       "        vertical-align: top;\n",
       "    }\n",
       "\n",
       "    .dataframe thead th {\n",
       "        text-align: right;\n",
       "    }\n",
       "</style>\n",
       "<table border=\"1\" class=\"dataframe\">\n",
       "  <thead>\n",
       "    <tr style=\"text-align: right;\">\n",
       "      <th></th>\n",
       "      <th>user_id</th>\n",
       "      <th>date</th>\n",
       "      <th>direction</th>\n",
       "      <th>internal</th>\n",
       "      <th>operator_id</th>\n",
       "      <th>is_missed_call</th>\n",
       "      <th>calls_count</th>\n",
       "      <th>call_duration</th>\n",
       "      <th>total_call_duration</th>\n",
       "      <th>data</th>\n",
       "      <th>total_duration_1</th>\n",
       "      <th>call_duration_1</th>\n",
       "      <th>wait_duration</th>\n",
       "      <th>effect</th>\n",
       "    </tr>\n",
       "  </thead>\n",
       "  <tbody>\n",
       "    <tr>\n",
       "      <th>0</th>\n",
       "      <td>166377</td>\n",
       "      <td>2019-08-04 00:00:00+03:00</td>\n",
       "      <td>in</td>\n",
       "      <td>internal-False</td>\n",
       "      <td>1</td>\n",
       "      <td>1</td>\n",
       "      <td>2</td>\n",
       "      <td>0</td>\n",
       "      <td>4</td>\n",
       "      <td>2019-08-04</td>\n",
       "      <td>2</td>\n",
       "      <td>0</td>\n",
       "      <td>2</td>\n",
       "      <td>no</td>\n",
       "    </tr>\n",
       "    <tr>\n",
       "      <th>7</th>\n",
       "      <td>166377</td>\n",
       "      <td>2019-08-05 00:00:00+03:00</td>\n",
       "      <td>in</td>\n",
       "      <td>internal-False</td>\n",
       "      <td>1</td>\n",
       "      <td>1</td>\n",
       "      <td>6</td>\n",
       "      <td>0</td>\n",
       "      <td>35</td>\n",
       "      <td>2019-08-05</td>\n",
       "      <td>6</td>\n",
       "      <td>0</td>\n",
       "      <td>6</td>\n",
       "      <td>no</td>\n",
       "    </tr>\n",
       "  </tbody>\n",
       "</table>\n",
       "</div>"
      ],
      "text/plain": [
       "   user_id                       date direction        internal  operator_id  \\\n",
       "0   166377  2019-08-04 00:00:00+03:00        in  internal-False            1   \n",
       "7   166377  2019-08-05 00:00:00+03:00        in  internal-False            1   \n",
       "\n",
       "   is_missed_call  calls_count  call_duration  total_call_duration  \\\n",
       "0               1            2              0                    4   \n",
       "7               1            6              0                   35   \n",
       "\n",
       "         data  total_duration_1  call_duration_1  wait_duration effect  \n",
       "0  2019-08-04                 2                0              2     no  \n",
       "7  2019-08-05                 6                0              6     no  "
      ]
     },
     "execution_count": 60,
     "metadata": {},
     "output_type": "execute_result"
    }
   ],
   "source": [
    "df_in.head(2)"
   ]
  },
  {
   "cell_type": "code",
   "execution_count": 61,
   "metadata": {},
   "outputs": [],
   "source": [
    "# объединение фрейма при необходимости\n",
    "# df1 = anime[0:2]\n",
    "# df2 = anime[2:4]\n",
    "# pd.concat([df1, df2], ignore_index=True)\n",
    "# pd.concat([df_in, df_out], ignore_index=True)"
   ]
  },
  {
   "cell_type": "markdown",
   "metadata": {},
   "source": [
    "***Определим количество операторов по признаку 'эффективность'***"
   ]
  },
  {
   "cell_type": "code",
   "execution_count": 62,
   "metadata": {},
   "outputs": [
    {
     "name": "stdout",
     "output_type": "stream",
     "text": [
      "Общее количество операторов на линиях составляет: 1064 человек.\n"
     ]
    }
   ],
   "source": [
    "print('Общее количество операторов на линиях составляет:', df_filtered['operator_id'].nunique(), 'человек.')"
   ]
  },
  {
   "cell_type": "code",
   "execution_count": 63,
   "metadata": {},
   "outputs": [
    {
     "name": "stdout",
     "output_type": "stream",
     "text": [
      "Общее количество операторов на исходящей линии составляет: 860 человек.\n"
     ]
    }
   ],
   "source": [
    "print('Общее количество операторов на исходящей линии составляет:', df_out['operator_id'].nunique(), 'человек.')"
   ]
  },
  {
   "cell_type": "code",
   "execution_count": 64,
   "metadata": {
    "scrolled": true
   },
   "outputs": [
    {
     "name": "stdout",
     "output_type": "stream",
     "text": [
      "Общее количество операторов на входящей линии составляет: 714 человек.\n"
     ]
    }
   ],
   "source": [
    "print('Общее количество операторов на входящей линии составляет:', df_in['operator_id'].nunique(), 'человек.')"
   ]
  },
  {
   "cell_type": "markdown",
   "metadata": {},
   "source": [
    "***Часть операторов совмещает работу на входящих и исходящих линиях, рассмотим их по отдельности чтоб поеять эффективность на каждом направлении*** "
   ]
  },
  {
   "cell_type": "markdown",
   "metadata": {},
   "source": [
    "***На исходящих вызовах (direction - out)***"
   ]
  },
  {
   "cell_type": "code",
   "execution_count": 65,
   "metadata": {},
   "outputs": [
    {
     "data": {
      "text/html": [
       "<div>\n",
       "<style scoped>\n",
       "    .dataframe tbody tr th:only-of-type {\n",
       "        vertical-align: middle;\n",
       "    }\n",
       "\n",
       "    .dataframe tbody tr th {\n",
       "        vertical-align: top;\n",
       "    }\n",
       "\n",
       "    .dataframe thead th {\n",
       "        text-align: right;\n",
       "    }\n",
       "</style>\n",
       "<table border=\"1\" class=\"dataframe\">\n",
       "  <thead>\n",
       "    <tr style=\"text-align: right;\">\n",
       "      <th></th>\n",
       "      <th>operator_id</th>\n",
       "    </tr>\n",
       "    <tr>\n",
       "      <th>effect</th>\n",
       "      <th></th>\n",
       "    </tr>\n",
       "  </thead>\n",
       "  <tbody>\n",
       "    <tr>\n",
       "      <th>no</th>\n",
       "      <td>[880022, 880020, 881278, 880028, 880026, 1, 88...</td>\n",
       "    </tr>\n",
       "    <tr>\n",
       "      <th>yes</th>\n",
       "      <td>[880028, 880026, 880022, 882684, 882686, 90251...</td>\n",
       "    </tr>\n",
       "  </tbody>\n",
       "</table>\n",
       "</div>"
      ],
      "text/plain": [
       "                                              operator_id\n",
       "effect                                                   \n",
       "no      [880022, 880020, 881278, 880028, 880026, 1, 88...\n",
       "yes     [880028, 880026, 880022, 882684, 882686, 90251..."
      ]
     },
     "execution_count": 65,
     "metadata": {},
     "output_type": "execute_result"
    }
   ],
   "source": [
    "df_out.groupby('effect').agg({'operator_id': 'unique'})"
   ]
  },
  {
   "cell_type": "code",
   "execution_count": 66,
   "metadata": {},
   "outputs": [
    {
     "data": {
      "text/html": [
       "<div>\n",
       "<style scoped>\n",
       "    .dataframe tbody tr th:only-of-type {\n",
       "        vertical-align: middle;\n",
       "    }\n",
       "\n",
       "    .dataframe tbody tr th {\n",
       "        vertical-align: top;\n",
       "    }\n",
       "\n",
       "    .dataframe thead th {\n",
       "        text-align: right;\n",
       "    }\n",
       "</style>\n",
       "<table border=\"1\" class=\"dataframe\">\n",
       "  <thead>\n",
       "    <tr style=\"text-align: right;\">\n",
       "      <th></th>\n",
       "      <th>user_id</th>\n",
       "      <th>date</th>\n",
       "      <th>direction</th>\n",
       "      <th>internal</th>\n",
       "      <th>operator_id</th>\n",
       "      <th>is_missed_call</th>\n",
       "      <th>calls_count</th>\n",
       "      <th>call_duration</th>\n",
       "      <th>total_call_duration</th>\n",
       "      <th>data</th>\n",
       "      <th>total_duration_1</th>\n",
       "      <th>call_duration_1</th>\n",
       "      <th>wait_duration</th>\n",
       "      <th>effect</th>\n",
       "    </tr>\n",
       "  </thead>\n",
       "  <tbody>\n",
       "    <tr>\n",
       "      <th>14</th>\n",
       "      <td>166377</td>\n",
       "      <td>2019-08-07 00:00:00+03:00</td>\n",
       "      <td>out</td>\n",
       "      <td>internal-False</td>\n",
       "      <td>880028</td>\n",
       "      <td>1</td>\n",
       "      <td>1</td>\n",
       "      <td>0</td>\n",
       "      <td>15</td>\n",
       "      <td>2019-08-07</td>\n",
       "      <td>15</td>\n",
       "      <td>0</td>\n",
       "      <td>15</td>\n",
       "      <td>no</td>\n",
       "    </tr>\n",
       "    <tr>\n",
       "      <th>21</th>\n",
       "      <td>166377</td>\n",
       "      <td>2019-08-09 00:00:00+03:00</td>\n",
       "      <td>out</td>\n",
       "      <td>internal-False</td>\n",
       "      <td>880028</td>\n",
       "      <td>0</td>\n",
       "      <td>17</td>\n",
       "      <td>1603</td>\n",
       "      <td>1725</td>\n",
       "      <td>2019-08-09</td>\n",
       "      <td>101</td>\n",
       "      <td>94</td>\n",
       "      <td>7</td>\n",
       "      <td>yes</td>\n",
       "    </tr>\n",
       "    <tr>\n",
       "      <th>22</th>\n",
       "      <td>166377</td>\n",
       "      <td>2019-08-09 00:00:00+03:00</td>\n",
       "      <td>out</td>\n",
       "      <td>internal-False</td>\n",
       "      <td>880028</td>\n",
       "      <td>1</td>\n",
       "      <td>2</td>\n",
       "      <td>0</td>\n",
       "      <td>2</td>\n",
       "      <td>2019-08-09</td>\n",
       "      <td>1</td>\n",
       "      <td>0</td>\n",
       "      <td>1</td>\n",
       "      <td>no</td>\n",
       "    </tr>\n",
       "  </tbody>\n",
       "</table>\n",
       "</div>"
      ],
      "text/plain": [
       "    user_id                       date direction        internal  operator_id  \\\n",
       "14   166377  2019-08-07 00:00:00+03:00       out  internal-False       880028   \n",
       "21   166377  2019-08-09 00:00:00+03:00       out  internal-False       880028   \n",
       "22   166377  2019-08-09 00:00:00+03:00       out  internal-False       880028   \n",
       "\n",
       "    is_missed_call  calls_count  call_duration  total_call_duration  \\\n",
       "14               1            1              0                   15   \n",
       "21               0           17           1603                 1725   \n",
       "22               1            2              0                    2   \n",
       "\n",
       "          data  total_duration_1  call_duration_1  wait_duration effect  \n",
       "14  2019-08-07                15                0             15     no  \n",
       "21  2019-08-09               101               94              7    yes  \n",
       "22  2019-08-09                 1                0              1     no  "
      ]
     },
     "execution_count": 66,
     "metadata": {},
     "output_type": "execute_result"
    }
   ],
   "source": [
    "df_out.query('operator_id == 880028').head(3)"
   ]
  },
  {
   "cell_type": "markdown",
   "metadata": {},
   "source": [
    "***Оцениваем, что в разные дни операторы показали разную эффективность, поэтому применим подход средних значений***"
   ]
  },
  {
   "cell_type": "code",
   "execution_count": 67,
   "metadata": {},
   "outputs": [
    {
     "data": {
      "text/html": [
       "<div>\n",
       "<style scoped>\n",
       "    .dataframe tbody tr th:only-of-type {\n",
       "        vertical-align: middle;\n",
       "    }\n",
       "\n",
       "    .dataframe tbody tr th {\n",
       "        vertical-align: top;\n",
       "    }\n",
       "\n",
       "    .dataframe thead th {\n",
       "        text-align: right;\n",
       "    }\n",
       "</style>\n",
       "<table border=\"1\" class=\"dataframe\">\n",
       "  <thead>\n",
       "    <tr style=\"text-align: right;\">\n",
       "      <th></th>\n",
       "      <th>user_id</th>\n",
       "      <th>date</th>\n",
       "      <th>direction</th>\n",
       "      <th>internal</th>\n",
       "      <th>operator_id</th>\n",
       "      <th>is_missed_call</th>\n",
       "      <th>calls_count</th>\n",
       "      <th>call_duration</th>\n",
       "      <th>total_call_duration</th>\n",
       "      <th>data</th>\n",
       "      <th>total_duration_1</th>\n",
       "      <th>call_duration_1</th>\n",
       "      <th>wait_duration</th>\n",
       "      <th>effect</th>\n",
       "    </tr>\n",
       "  </thead>\n",
       "  <tbody>\n",
       "    <tr>\n",
       "      <th>1</th>\n",
       "      <td>166377</td>\n",
       "      <td>2019-08-05 00:00:00+03:00</td>\n",
       "      <td>out</td>\n",
       "      <td>internal-True</td>\n",
       "      <td>880022</td>\n",
       "      <td>1</td>\n",
       "      <td>3</td>\n",
       "      <td>0</td>\n",
       "      <td>5</td>\n",
       "      <td>2019-08-05</td>\n",
       "      <td>2</td>\n",
       "      <td>0</td>\n",
       "      <td>2</td>\n",
       "      <td>no</td>\n",
       "    </tr>\n",
       "  </tbody>\n",
       "</table>\n",
       "</div>"
      ],
      "text/plain": [
       "   user_id                       date direction       internal  operator_id  \\\n",
       "1   166377  2019-08-05 00:00:00+03:00       out  internal-True       880022   \n",
       "\n",
       "   is_missed_call  calls_count  call_duration  total_call_duration  \\\n",
       "1               1            3              0                    5   \n",
       "\n",
       "         data  total_duration_1  call_duration_1  wait_duration effect  \n",
       "1  2019-08-05                 2                0              2     no  "
      ]
     },
     "execution_count": 67,
     "metadata": {},
     "output_type": "execute_result"
    }
   ],
   "source": [
    "df_out.head(1)"
   ]
  },
  {
   "cell_type": "code",
   "execution_count": 68,
   "metadata": {},
   "outputs": [],
   "source": [
    "df_out_group = df_out.groupby('operator_id').agg({'calls_count': 'mean', \n",
    "                                                  'total_duration_1': 'mean',  'call_duration_1': 'mean', \n",
    "                                                   'wait_duration': 'mean', 'is_missed_call': 'mean'}).round(0)\n",
    "# df_out_group.head(3)"
   ]
  },
  {
   "cell_type": "code",
   "execution_count": 69,
   "metadata": {},
   "outputs": [
    {
     "data": {
      "text/html": [
       "<div>\n",
       "<style scoped>\n",
       "    .dataframe tbody tr th:only-of-type {\n",
       "        vertical-align: middle;\n",
       "    }\n",
       "\n",
       "    .dataframe tbody tr th {\n",
       "        vertical-align: top;\n",
       "    }\n",
       "\n",
       "    .dataframe thead th {\n",
       "        text-align: right;\n",
       "    }\n",
       "</style>\n",
       "<table border=\"1\" class=\"dataframe\">\n",
       "  <thead>\n",
       "    <tr style=\"text-align: right;\">\n",
       "      <th></th>\n",
       "      <th>calls_count</th>\n",
       "      <th>total_duration_1</th>\n",
       "      <th>call_duration_1</th>\n",
       "      <th>wait_duration</th>\n",
       "      <th>is_missed_call</th>\n",
       "      <th>effect</th>\n",
       "    </tr>\n",
       "    <tr>\n",
       "      <th>operator_id</th>\n",
       "      <th></th>\n",
       "      <th></th>\n",
       "      <th></th>\n",
       "      <th></th>\n",
       "      <th></th>\n",
       "      <th></th>\n",
       "    </tr>\n",
       "  </thead>\n",
       "  <tbody>\n",
       "    <tr>\n",
       "      <th>1</th>\n",
       "      <td>1.0</td>\n",
       "      <td>10.0</td>\n",
       "      <td>7.0</td>\n",
       "      <td>3.0</td>\n",
       "      <td>1.0</td>\n",
       "      <td>no</td>\n",
       "    </tr>\n",
       "    <tr>\n",
       "      <th>879896</th>\n",
       "      <td>9.0</td>\n",
       "      <td>52.0</td>\n",
       "      <td>38.0</td>\n",
       "      <td>14.0</td>\n",
       "      <td>1.0</td>\n",
       "      <td>yes</td>\n",
       "    </tr>\n",
       "    <tr>\n",
       "      <th>879898</th>\n",
       "      <td>43.0</td>\n",
       "      <td>40.0</td>\n",
       "      <td>25.0</td>\n",
       "      <td>15.0</td>\n",
       "      <td>1.0</td>\n",
       "      <td>yes</td>\n",
       "    </tr>\n",
       "  </tbody>\n",
       "</table>\n",
       "</div>"
      ],
      "text/plain": [
       "             calls_count  total_duration_1  call_duration_1  wait_duration  \\\n",
       "operator_id                                                                  \n",
       "1                    1.0              10.0              7.0            3.0   \n",
       "879896               9.0              52.0             38.0           14.0   \n",
       "879898              43.0              40.0             25.0           15.0   \n",
       "\n",
       "             is_missed_call effect  \n",
       "operator_id                         \n",
       "1                       1.0     no  \n",
       "879896                  1.0    yes  \n",
       "879898                  1.0    yes  "
      ]
     },
     "execution_count": 69,
     "metadata": {},
     "output_type": "execute_result"
    }
   ],
   "source": [
    "df_out_group['effect'] = df_out_group.apply(effect_group_out, axis = 1)\n",
    "df_out_group.head(3)"
   ]
  },
  {
   "cell_type": "code",
   "execution_count": 70,
   "metadata": {},
   "outputs": [
    {
     "data": {
      "text/html": [
       "<div>\n",
       "<style scoped>\n",
       "    .dataframe tbody tr th:only-of-type {\n",
       "        vertical-align: middle;\n",
       "    }\n",
       "\n",
       "    .dataframe tbody tr th {\n",
       "        vertical-align: top;\n",
       "    }\n",
       "\n",
       "    .dataframe thead th {\n",
       "        text-align: right;\n",
       "    }\n",
       "</style>\n",
       "<table border=\"1\" class=\"dataframe\">\n",
       "  <thead>\n",
       "    <tr style=\"text-align: right;\">\n",
       "      <th></th>\n",
       "      <th>effect_out</th>\n",
       "      <th>count</th>\n",
       "      <th>%</th>\n",
       "    </tr>\n",
       "  </thead>\n",
       "  <tbody>\n",
       "    <tr>\n",
       "      <th>0</th>\n",
       "      <td>no</td>\n",
       "      <td>505</td>\n",
       "      <td>58.72</td>\n",
       "    </tr>\n",
       "    <tr>\n",
       "      <th>1</th>\n",
       "      <td>yes</td>\n",
       "      <td>355</td>\n",
       "      <td>41.28</td>\n",
       "    </tr>\n",
       "  </tbody>\n",
       "</table>\n",
       "</div>"
      ],
      "text/plain": [
       "  effect_out  count      %\n",
       "0         no    505  58.72\n",
       "1        yes    355  41.28"
      ]
     },
     "execution_count": 70,
     "metadata": {},
     "output_type": "execute_result"
    }
   ],
   "source": [
    "o_1 = df_out_group['effect'].value_counts().reset_index().\\\n",
    "                                           rename(columns = {'index' : 'effect_out', 'effect': 'count'})\n",
    "o_2 = df_out_group['effect'].value_counts(normalize=True).reset_index().\\\n",
    "                                         rename(columns = {'index' : 'effect_out', 'effect': '%'}).round(4)\n",
    "\n",
    "o_2['%'] = o_2['%'] * 100\n",
    "o_total = o_1.merge(o_2, how = 'inner')\n",
    "o_total"
   ]
  },
  {
   "cell_type": "markdown",
   "metadata": {},
   "source": [
    "***На входящих вызовах (direction - in)***"
   ]
  },
  {
   "cell_type": "code",
   "execution_count": 71,
   "metadata": {},
   "outputs": [],
   "source": [
    "df_in_group = df_in.groupby('operator_id').agg({'calls_count': 'mean', \n",
    "                                                  'total_duration_1': 'mean',  'call_duration_1': 'mean', \n",
    "                                                  'wait_duration': 'mean', 'is_missed_call': 'mean'}).round(0)\n",
    "# df_in_group.head(3)"
   ]
  },
  {
   "cell_type": "code",
   "execution_count": 72,
   "metadata": {},
   "outputs": [
    {
     "data": {
      "text/html": [
       "<div>\n",
       "<style scoped>\n",
       "    .dataframe tbody tr th:only-of-type {\n",
       "        vertical-align: middle;\n",
       "    }\n",
       "\n",
       "    .dataframe tbody tr th {\n",
       "        vertical-align: top;\n",
       "    }\n",
       "\n",
       "    .dataframe thead th {\n",
       "        text-align: right;\n",
       "    }\n",
       "</style>\n",
       "<table border=\"1\" class=\"dataframe\">\n",
       "  <thead>\n",
       "    <tr style=\"text-align: right;\">\n",
       "      <th></th>\n",
       "      <th>calls_count</th>\n",
       "      <th>total_duration_1</th>\n",
       "      <th>call_duration_1</th>\n",
       "      <th>wait_duration</th>\n",
       "      <th>is_missed_call</th>\n",
       "      <th>effect</th>\n",
       "    </tr>\n",
       "    <tr>\n",
       "      <th>operator_id</th>\n",
       "      <th></th>\n",
       "      <th></th>\n",
       "      <th></th>\n",
       "      <th></th>\n",
       "      <th></th>\n",
       "      <th></th>\n",
       "    </tr>\n",
       "  </thead>\n",
       "  <tbody>\n",
       "    <tr>\n",
       "      <th>1</th>\n",
       "      <td>15.0</td>\n",
       "      <td>15.0</td>\n",
       "      <td>0.0</td>\n",
       "      <td>15.0</td>\n",
       "      <td>1.0</td>\n",
       "      <td>no</td>\n",
       "    </tr>\n",
       "    <tr>\n",
       "      <th>879896</th>\n",
       "      <td>3.0</td>\n",
       "      <td>82.0</td>\n",
       "      <td>73.0</td>\n",
       "      <td>9.0</td>\n",
       "      <td>0.0</td>\n",
       "      <td>yes</td>\n",
       "    </tr>\n",
       "    <tr>\n",
       "      <th>879898</th>\n",
       "      <td>2.0</td>\n",
       "      <td>76.0</td>\n",
       "      <td>66.0</td>\n",
       "      <td>11.0</td>\n",
       "      <td>0.0</td>\n",
       "      <td>yes</td>\n",
       "    </tr>\n",
       "  </tbody>\n",
       "</table>\n",
       "</div>"
      ],
      "text/plain": [
       "             calls_count  total_duration_1  call_duration_1  wait_duration  \\\n",
       "operator_id                                                                  \n",
       "1                   15.0              15.0              0.0           15.0   \n",
       "879896               3.0              82.0             73.0            9.0   \n",
       "879898               2.0              76.0             66.0           11.0   \n",
       "\n",
       "             is_missed_call effect  \n",
       "operator_id                         \n",
       "1                       1.0     no  \n",
       "879896                  0.0    yes  \n",
       "879898                  0.0    yes  "
      ]
     },
     "execution_count": 72,
     "metadata": {},
     "output_type": "execute_result"
    }
   ],
   "source": [
    "df_in_group['effect'] = df_in_group.apply(effect_group_in, axis = 1)\n",
    "df_in_group.head(3)"
   ]
  },
  {
   "cell_type": "code",
   "execution_count": 73,
   "metadata": {},
   "outputs": [
    {
     "data": {
      "text/html": [
       "<div>\n",
       "<style scoped>\n",
       "    .dataframe tbody tr th:only-of-type {\n",
       "        vertical-align: middle;\n",
       "    }\n",
       "\n",
       "    .dataframe tbody tr th {\n",
       "        vertical-align: top;\n",
       "    }\n",
       "\n",
       "    .dataframe thead th {\n",
       "        text-align: right;\n",
       "    }\n",
       "</style>\n",
       "<table border=\"1\" class=\"dataframe\">\n",
       "  <thead>\n",
       "    <tr style=\"text-align: right;\">\n",
       "      <th></th>\n",
       "      <th>effect_in</th>\n",
       "      <th>count</th>\n",
       "      <th>%</th>\n",
       "    </tr>\n",
       "  </thead>\n",
       "  <tbody>\n",
       "    <tr>\n",
       "      <th>0</th>\n",
       "      <td>no</td>\n",
       "      <td>412</td>\n",
       "      <td>57.7</td>\n",
       "    </tr>\n",
       "    <tr>\n",
       "      <th>1</th>\n",
       "      <td>yes</td>\n",
       "      <td>302</td>\n",
       "      <td>42.3</td>\n",
       "    </tr>\n",
       "  </tbody>\n",
       "</table>\n",
       "</div>"
      ],
      "text/plain": [
       "  effect_in  count     %\n",
       "0        no    412  57.7\n",
       "1       yes    302  42.3"
      ]
     },
     "execution_count": 73,
     "metadata": {},
     "output_type": "execute_result"
    }
   ],
   "source": [
    "i_1 = df_in_group['effect'].value_counts().reset_index().\\\n",
    "                                           rename(columns = {'index' : 'effect_in', 'effect': 'count'})\n",
    "i_2 = df_in_group['effect'].value_counts(normalize=True).reset_index().\\\n",
    "                                         rename(columns = {'index' : 'effect_in', 'effect': '%'}).round(4)\n",
    "\n",
    "i_2['%'] = i_2['%'] * 100\n",
    "i_total = i_1.merge(i_2, how = 'inner')\n",
    "i_total"
   ]
  },
  {
   "cell_type": "markdown",
   "metadata": {},
   "source": [
    "***Вывод:***  \n",
    "- на исходящих линиях количество эффективных операторов меньше, чем на входящих."
   ]
  },
  {
   "cell_type": "markdown",
   "metadata": {},
   "source": [
    "## Проверка гипотез"
   ]
  },
  {
   "cell_type": "markdown",
   "metadata": {},
   "source": [
    "***Проверим предположение о разном количестве операторов в разные дни недели***"
   ]
  },
  {
   "cell_type": "code",
   "execution_count": 74,
   "metadata": {},
   "outputs": [],
   "source": [
    "# сгруппируем фрейм по дате с учетом направления вызова и посчитаем количество операторов на линии\n",
    "data_operator = df_filtered.pivot_table(index=['data'], columns = 'direction',  values = 'operator_id', aggfunc = 'nunique').\\\n",
    "                                reset_index()\n",
    "# data_operator.head(3)"
   ]
  },
  {
   "cell_type": "code",
   "execution_count": 75,
   "metadata": {},
   "outputs": [
    {
     "data": {
      "image/png": "[encoded data removed]",
      "text/plain": [
       "<Figure size 720x360 with 1 Axes>"
      ]
     },
     "metadata": {
      "needs_background": "light"
     },
     "output_type": "display_data"
    },
    {
     "data": {
      "text/plain": [
       "<Figure size 432x288 with 0 Axes>"
      ]
     },
     "metadata": {},
     "output_type": "display_data"
    },
    {
     "data": {
      "image/png": "[encoded data removed]",
      "text/plain": [
       "<Figure size 720x360 with 1 Axes>"
      ]
     },
     "metadata": {
      "needs_background": "light"
     },
     "output_type": "display_data"
    },
    {
     "data": {
      "text/plain": [
       "<Figure size 432x288 with 0 Axes>"
      ]
     },
     "metadata": {},
     "output_type": "display_data"
    }
   ],
   "source": [
    "for column in ['in','out']:\n",
    "    plt.figure(figsize = (10, 5))\n",
    "    plt.plot(data_operator['data'].tolist(), data_operator[column].tolist(), \n",
    "    alpha = .7, color = 'orange', linestyle = 'solid')\n",
    "    plt.xlabel('дата', fontsize = 14, color = 'black', fontstyle = 'normal')\n",
    "    plt.ylabel('количество операторов', fontsize = 14, color = 'black', fontstyle = 'normal')\n",
    "    # размер, стиль, цвет, толщина шрифта\n",
    "    plt.title('График динамики количества операторов на линии: '+column, fontsize = 16, color = 'black', loc = 'center')\n",
    "    # название, размер, цвет, выравнивание заголовка\n",
    "    plt.xticks(rotation = 45) # развернем значение осей чтоб не было наложения\n",
    "    plt.yticks(rotation = 45)\n",
    "    plt.grid(True)\n",
    "    # линии разметки\n",
    "    plt.show()\n",
    "    plt.tight_layout()"
   ]
  },
  {
   "cell_type": "markdown",
   "metadata": {},
   "source": [
    "***Вывод:***\n",
    "- количество операторов на линии непостоянно в течении недели, увеличивается от начала даты анализа и по воскресеньям значительно сокращается;\n",
    "- количество операторов на исходящей линии больше, чем на входящей."
   ]
  },
  {
   "cell_type": "markdown",
   "metadata": {},
   "source": [
    "### Гипотеза о равенстве длительности ожидания вызовов"
   ]
  },
  {
   "cell_type": "markdown",
   "metadata": {},
   "source": [
    "<p>Введем основную и альтернативные гипотезы:</p>\n",
    "\n",
    "$\\begin{equation*}\n",
    " \\begin{cases}\n",
    "   H_0 :\\textit{Длительность ожидания входящих вызовов эффективных и неэффективных операторов равна}\\\\\n",
    "   \\\\\n",
    "   H_1 :\\textit{Длительность ожидания входящих вызовов эффективных и неэффективных операторов отличается}\n",
    " \\end{cases}\n",
    "\\end{equation*}$\n",
    "\n",
    "Уровень значимости: $\\alpha = 0.05$\n",
    "\n",
    "Посчитаем p-value, используя ttest из библиотеки scipy для сравнения средних двух выборок.\n",
    "\n",
    "Если p-value будет меньше выбранного уровня значимости $\\alpha = 0.05$, то нулевую гипотезу о равенстве средних отвергнем. Иначе сделаем вывод, что данные не позволили нам отвергнуть нулевую гипотезу."
   ]
  },
  {
   "cell_type": "markdown",
   "metadata": {},
   "source": [
    "***Для операторов на входящих линиях***"
   ]
  },
  {
   "cell_type": "code",
   "execution_count": 76,
   "metadata": {},
   "outputs": [],
   "source": [
    "# H0: p = p0 (population proportion is equal to hypothesized proportion p0)\n",
    "# The alternative hypothesis can be either two-tailed, left-tailed, or right-tailed:\n",
    "\n",
    "# H1 (two-tailed): p ≠ p0 (two-tailed population proportion is not equal to some hypothesized value p0)\n",
    "# H1 (left-tailed): p < p0 (left-tailed population proportion is less than some hypothesized value p0)\n",
    "# H1 (right-tailed): p > p0 (right-tailed population proportion is greater than some hypothesized value p0)\n",
    "\n",
    "# ссылка https://www.geeksforgeeks.org/how-to-perform-a-one-proportion-z-test-in-python/"
   ]
  },
  {
   "cell_type": "code",
   "execution_count": 77,
   "metadata": {},
   "outputs": [],
   "source": [
    "# df_in.query('effect == \"no\"')['wait_duration']"
   ]
  },
  {
   "cell_type": "code",
   "execution_count": 78,
   "metadata": {
    "scrolled": true
   },
   "outputs": [
    {
     "data": {
      "text/html": [
       "<div>\n",
       "<style scoped>\n",
       "    .dataframe tbody tr th:only-of-type {\n",
       "        vertical-align: middle;\n",
       "    }\n",
       "\n",
       "    .dataframe tbody tr th {\n",
       "        vertical-align: top;\n",
       "    }\n",
       "\n",
       "    .dataframe thead th {\n",
       "        text-align: right;\n",
       "    }\n",
       "</style>\n",
       "<table border=\"1\" class=\"dataframe\">\n",
       "  <thead>\n",
       "    <tr style=\"text-align: right;\">\n",
       "      <th></th>\n",
       "      <th>effect</th>\n",
       "      <th>count</th>\n",
       "    </tr>\n",
       "  </thead>\n",
       "  <tbody>\n",
       "    <tr>\n",
       "      <th>0</th>\n",
       "      <td>no</td>\n",
       "      <td>11051</td>\n",
       "    </tr>\n",
       "    <tr>\n",
       "      <th>1</th>\n",
       "      <td>yes</td>\n",
       "      <td>4721</td>\n",
       "    </tr>\n",
       "  </tbody>\n",
       "</table>\n",
       "</div>"
      ],
      "text/plain": [
       "  effect  count\n",
       "0     no  11051\n",
       "1    yes   4721"
      ]
     },
     "execution_count": 78,
     "metadata": {},
     "output_type": "execute_result"
    }
   ],
   "source": [
    "missed_group = df_in.groupby('effect').agg({'is_missed_call': 'count'}).reset_index().\\\n",
    "                                        rename(columns = {'is_missed_call': 'count'})\n",
    "missed_group"
   ]
  },
  {
   "cell_type": "markdown",
   "metadata": {},
   "source": [
    "***Вывод:***  \n",
    "- количество пропущенных вызовов у эффективных операторов значительно меньше, чем у неэффективных."
   ]
  },
  {
   "cell_type": "markdown",
   "metadata": {},
   "source": [
    "***Применим непараметрический тест Манна-Уитни (в том числе для ненормально распределенных выборок)***"
   ]
  },
  {
   "cell_type": "code",
   "execution_count": 79,
   "metadata": {
    "scrolled": true
   },
   "outputs": [
    {
     "name": "stdout",
     "output_type": "stream",
     "text": [
      "p-значение:  0.0\n",
      "Отклонить нулевую гипотезу\n",
      "MannwhitneyuResult(statistic=40915870.5, pvalue=0.0)\n"
     ]
    }
   ],
   "source": [
    "alpha = .05 # критический уровень статистической значимости (5%)\n",
    "# если p-value окажется меньше него - отвергнем гипотезу\n",
    "results = st.mannwhitneyu(df_in.query('effect == \"no\"')['wait_duration'],\n",
    "                       df_in.query('effect == \"yes\"')['wait_duration'], alternative='two-sided')\n",
    "print('p-значение: ', results.pvalue)\n",
    "\n",
    "if (results.pvalue < alpha):\n",
    "    print('Отклонить нулевую гипотезу')\n",
    "else:\n",
    "    print('Принять нулевую гипотезу')\n",
    "print(results)"
   ]
  },
  {
   "cell_type": "markdown",
   "metadata": {},
   "source": [
    "***Для операторов на исходящих линиях***"
   ]
  },
  {
   "cell_type": "code",
   "execution_count": 80,
   "metadata": {},
   "outputs": [],
   "source": [
    "# df_out.query('effect == \"no\"')['call_duration_1']"
   ]
  },
  {
   "cell_type": "markdown",
   "metadata": {},
   "source": [
    "<p>Введем основную и альтернативные гипотезы:</p>\n",
    "\n",
    "$\\begin{equation*}\n",
    " \\begin{cases}\n",
    "   H_0 :\\textit{Длительность вызовов эффективных и неэффективных операторов равна}\\\\\n",
    "   \\\\\n",
    "   H_1 :\\textit{Длительность вызовов эффективных и неэффективных операторов отличается}\n",
    " \\end{cases}\n",
    "\\end{equation*}$\n"
   ]
  },
  {
   "cell_type": "markdown",
   "metadata": {},
   "source": [
    "***alternative{‘two-sided’, ‘less’, ‘greater’}  \n",
    "ссылка https://docs.scipy.org/doc/scipy/reference/generated/scipy.stats.ttest_ind.html***"
   ]
  },
  {
   "cell_type": "code",
   "execution_count": 81,
   "metadata": {
    "scrolled": true
   },
   "outputs": [
    {
     "name": "stdout",
     "output_type": "stream",
     "text": [
      "p-значение:  0.0\n",
      "Отклонить нулевую гипотезу\n",
      "MannwhitneyuResult(statistic=13869686.0, pvalue=0.0)\n"
     ]
    }
   ],
   "source": [
    "results = st.mannwhitneyu(df_out.query('effect == \"no\"')['call_duration_1'],\n",
    "                       df_out.query('effect == \"yes\"')['call_duration_1'], alternative='less')\n",
    "print('p-значение: ', results.pvalue)\n",
    "\n",
    "if (results.pvalue < alpha):\n",
    "    print('Отклонить нулевую гипотезу')\n",
    "else:\n",
    "    print('Принять нулевую гипотезу')\n",
    "print(results)"
   ]
  },
  {
   "cell_type": "markdown",
   "metadata": {},
   "source": [
    "\n",
    "***"
   ]
  },
  {
   "cell_type": "markdown",
   "metadata": {},
   "source": [
    "***Вывод:***\n",
    "- в ходе работы проведено разделение операторов по признакам эффективности;\n",
    "- определены неэффективные операторы;\n",
    "- проверены гипотезы.\n",
    "***        "
   ]
  }
 ],
 "metadata": {
  "ExecuteTimeLog": [
   {
    "duration": 4193,
    "start_time": "2022-06-06T09:14:08.694Z"
   },
   {
    "duration": 3,
    "start_time": "2022-06-06T09:14:12.890Z"
   },
   {
    "duration": 529,
    "start_time": "2022-06-06T09:14:12.895Z"
   },
   {
    "duration": 0,
    "start_time": "2022-06-06T09:14:13.428Z"
   },
   {
    "duration": 0,
    "start_time": "2022-06-06T09:14:13.429Z"
   },
   {
    "duration": 0,
    "start_time": "2022-06-06T09:14:13.431Z"
   },
   {
    "duration": 0,
    "start_time": "2022-06-06T09:14:13.432Z"
   },
   {
    "duration": 0,
    "start_time": "2022-06-06T09:14:13.433Z"
   },
   {
    "duration": 0,
    "start_time": "2022-06-06T09:14:13.435Z"
   },
   {
    "duration": 0,
    "start_time": "2022-06-06T09:14:13.435Z"
   },
   {
    "duration": 0,
    "start_time": "2022-06-06T09:14:13.437Z"
   },
   {
    "duration": 0,
    "start_time": "2022-06-06T09:14:13.438Z"
   },
   {
    "duration": 0,
    "start_time": "2022-06-06T09:14:13.439Z"
   },
   {
    "duration": 0,
    "start_time": "2022-06-06T09:14:13.440Z"
   },
   {
    "duration": 0,
    "start_time": "2022-06-06T09:14:13.441Z"
   },
   {
    "duration": 0,
    "start_time": "2022-06-06T09:14:13.442Z"
   },
   {
    "duration": 0,
    "start_time": "2022-06-06T09:14:13.443Z"
   },
   {
    "duration": 0,
    "start_time": "2022-06-06T09:14:13.444Z"
   },
   {
    "duration": 0,
    "start_time": "2022-06-06T09:14:13.446Z"
   },
   {
    "duration": 0,
    "start_time": "2022-06-06T09:14:13.448Z"
   },
   {
    "duration": 0,
    "start_time": "2022-06-06T09:14:13.449Z"
   },
   {
    "duration": 0,
    "start_time": "2022-06-06T09:14:13.450Z"
   },
   {
    "duration": 0,
    "start_time": "2022-06-06T09:14:13.451Z"
   },
   {
    "duration": 0,
    "start_time": "2022-06-06T09:14:13.452Z"
   },
   {
    "duration": 0,
    "start_time": "2022-06-06T09:14:13.454Z"
   },
   {
    "duration": 0,
    "start_time": "2022-06-06T09:14:13.454Z"
   },
   {
    "duration": 0,
    "start_time": "2022-06-06T09:14:13.456Z"
   },
   {
    "duration": 0,
    "start_time": "2022-06-06T09:14:13.458Z"
   },
   {
    "duration": 0,
    "start_time": "2022-06-06T09:14:13.459Z"
   },
   {
    "duration": 0,
    "start_time": "2022-06-06T09:14:13.460Z"
   },
   {
    "duration": 0,
    "start_time": "2022-06-06T09:14:13.463Z"
   },
   {
    "duration": 0,
    "start_time": "2022-06-06T09:14:13.464Z"
   },
   {
    "duration": 0,
    "start_time": "2022-06-06T09:14:13.466Z"
   },
   {
    "duration": 0,
    "start_time": "2022-06-06T09:14:13.528Z"
   },
   {
    "duration": 0,
    "start_time": "2022-06-06T09:14:13.529Z"
   },
   {
    "duration": 0,
    "start_time": "2022-06-06T09:14:13.530Z"
   },
   {
    "duration": 0,
    "start_time": "2022-06-06T09:14:13.532Z"
   },
   {
    "duration": 0,
    "start_time": "2022-06-06T09:14:13.533Z"
   },
   {
    "duration": 0,
    "start_time": "2022-06-06T09:14:13.534Z"
   },
   {
    "duration": 0,
    "start_time": "2022-06-06T09:14:13.535Z"
   },
   {
    "duration": 0,
    "start_time": "2022-06-06T09:14:13.536Z"
   },
   {
    "duration": 0,
    "start_time": "2022-06-06T09:14:13.537Z"
   },
   {
    "duration": 0,
    "start_time": "2022-06-06T09:14:13.538Z"
   },
   {
    "duration": 1,
    "start_time": "2022-06-06T09:14:13.539Z"
   },
   {
    "duration": 0,
    "start_time": "2022-06-06T09:14:13.541Z"
   },
   {
    "duration": 0,
    "start_time": "2022-06-06T09:14:13.543Z"
   },
   {
    "duration": 0,
    "start_time": "2022-06-06T09:14:13.544Z"
   },
   {
    "duration": 0,
    "start_time": "2022-06-06T09:14:13.544Z"
   },
   {
    "duration": 0,
    "start_time": "2022-06-06T09:14:13.546Z"
   },
   {
    "duration": 0,
    "start_time": "2022-06-06T09:14:13.547Z"
   },
   {
    "duration": 0,
    "start_time": "2022-06-06T09:14:13.548Z"
   },
   {
    "duration": 0,
    "start_time": "2022-06-06T09:14:13.549Z"
   },
   {
    "duration": 0,
    "start_time": "2022-06-06T09:14:13.550Z"
   },
   {
    "duration": 0,
    "start_time": "2022-06-06T09:14:13.551Z"
   },
   {
    "duration": 0,
    "start_time": "2022-06-06T09:14:13.552Z"
   },
   {
    "duration": 0,
    "start_time": "2022-06-06T09:14:13.553Z"
   },
   {
    "duration": 0,
    "start_time": "2022-06-06T09:14:13.554Z"
   },
   {
    "duration": 0,
    "start_time": "2022-06-06T09:14:13.555Z"
   },
   {
    "duration": 0,
    "start_time": "2022-06-06T09:14:13.557Z"
   },
   {
    "duration": 132,
    "start_time": "2022-06-06T09:22:08.223Z"
   },
   {
    "duration": 13,
    "start_time": "2022-06-06T09:22:30.355Z"
   },
   {
    "duration": 2145,
    "start_time": "2022-06-06T09:25:22.127Z"
   },
   {
    "duration": 2,
    "start_time": "2022-06-06T09:25:24.275Z"
   },
   {
    "duration": 71,
    "start_time": "2022-06-06T09:25:24.279Z"
   },
   {
    "duration": 140,
    "start_time": "2022-06-06T09:25:24.352Z"
   },
   {
    "duration": 10,
    "start_time": "2022-06-06T09:25:24.494Z"
   },
   {
    "duration": 40,
    "start_time": "2022-06-06T09:25:24.506Z"
   },
   {
    "duration": 22,
    "start_time": "2022-06-06T09:25:24.548Z"
   },
   {
    "duration": 29,
    "start_time": "2022-06-06T09:25:24.572Z"
   },
   {
    "duration": 39,
    "start_time": "2022-06-06T09:25:24.603Z"
   },
   {
    "duration": 37,
    "start_time": "2022-06-06T09:25:24.644Z"
   },
   {
    "duration": 9,
    "start_time": "2022-06-06T09:25:24.682Z"
   },
   {
    "duration": 21,
    "start_time": "2022-06-06T09:25:24.692Z"
   },
   {
    "duration": 58,
    "start_time": "2022-06-06T09:25:24.715Z"
   },
   {
    "duration": 19,
    "start_time": "2022-06-06T09:25:24.775Z"
   },
   {
    "duration": 29,
    "start_time": "2022-06-06T09:25:24.796Z"
   },
   {
    "duration": 41,
    "start_time": "2022-06-06T09:25:24.828Z"
   },
   {
    "duration": 47,
    "start_time": "2022-06-06T09:25:24.871Z"
   },
   {
    "duration": 10,
    "start_time": "2022-06-06T09:25:24.920Z"
   },
   {
    "duration": 35,
    "start_time": "2022-06-06T09:25:24.931Z"
   },
   {
    "duration": 18,
    "start_time": "2022-06-06T09:25:24.967Z"
   },
   {
    "duration": 79,
    "start_time": "2022-06-06T09:25:24.987Z"
   },
   {
    "duration": 28,
    "start_time": "2022-06-06T09:25:25.067Z"
   },
   {
    "duration": 22,
    "start_time": "2022-06-06T09:25:25.096Z"
   },
   {
    "duration": 25,
    "start_time": "2022-06-06T09:25:25.119Z"
   },
   {
    "duration": 4,
    "start_time": "2022-06-06T09:25:25.146Z"
   },
   {
    "duration": 22,
    "start_time": "2022-06-06T09:25:25.151Z"
   },
   {
    "duration": 12,
    "start_time": "2022-06-06T09:25:25.174Z"
   },
   {
    "duration": 4,
    "start_time": "2022-06-06T09:25:25.189Z"
   },
   {
    "duration": 47,
    "start_time": "2022-06-06T09:25:25.195Z"
   },
   {
    "duration": 16,
    "start_time": "2022-06-06T09:25:25.243Z"
   },
   {
    "duration": 11,
    "start_time": "2022-06-06T09:25:25.260Z"
   },
   {
    "duration": 16,
    "start_time": "2022-06-06T09:25:25.272Z"
   },
   {
    "duration": 135,
    "start_time": "2022-06-06T09:25:25.289Z"
   },
   {
    "duration": 16,
    "start_time": "2022-06-06T09:25:25.426Z"
   },
   {
    "duration": 23,
    "start_time": "2022-06-06T09:25:25.443Z"
   },
   {
    "duration": 17,
    "start_time": "2022-06-06T09:25:25.467Z"
   },
   {
    "duration": 12,
    "start_time": "2022-06-06T09:25:25.485Z"
   },
   {
    "duration": 965,
    "start_time": "2022-06-06T09:25:25.498Z"
   },
   {
    "duration": 737,
    "start_time": "2022-06-06T09:25:26.465Z"
   },
   {
    "duration": 3,
    "start_time": "2022-06-06T09:25:27.204Z"
   },
   {
    "duration": 22,
    "start_time": "2022-06-06T09:25:27.208Z"
   },
   {
    "duration": 14,
    "start_time": "2022-06-06T09:25:27.240Z"
   },
   {
    "duration": 16,
    "start_time": "2022-06-06T09:25:27.256Z"
   },
   {
    "duration": 3003,
    "start_time": "2022-06-06T09:25:27.274Z"
   },
   {
    "duration": 4,
    "start_time": "2022-06-06T09:25:30.280Z"
   },
   {
    "duration": 51,
    "start_time": "2022-06-06T09:25:30.285Z"
   },
   {
    "duration": 6,
    "start_time": "2022-06-06T09:25:30.339Z"
   },
   {
    "duration": 25,
    "start_time": "2022-06-06T09:25:30.346Z"
   },
   {
    "duration": 16,
    "start_time": "2022-06-06T09:25:30.372Z"
   },
   {
    "duration": 326,
    "start_time": "2022-06-06T09:25:30.390Z"
   },
   {
    "duration": 23,
    "start_time": "2022-06-06T09:25:30.717Z"
   },
   {
    "duration": 22,
    "start_time": "2022-06-06T09:25:30.742Z"
   },
   {
    "duration": 53,
    "start_time": "2022-06-06T09:25:30.766Z"
   },
   {
    "duration": 44,
    "start_time": "2022-06-06T09:25:30.820Z"
   },
   {
    "duration": 11,
    "start_time": "2022-06-06T09:25:30.865Z"
   },
   {
    "duration": 66,
    "start_time": "2022-06-06T09:25:30.877Z"
   },
   {
    "duration": 19,
    "start_time": "2022-06-06T09:25:30.944Z"
   },
   {
    "duration": 32,
    "start_time": "2022-06-06T09:25:30.965Z"
   },
   {
    "duration": 40,
    "start_time": "2022-06-06T09:25:30.998Z"
   },
   {
    "duration": 3738,
    "start_time": "2022-06-06T12:48:13.486Z"
   },
   {
    "duration": 3,
    "start_time": "2022-06-06T12:48:17.230Z"
   },
   {
    "duration": 108,
    "start_time": "2022-06-06T12:48:17.235Z"
   },
   {
    "duration": 64,
    "start_time": "2022-06-06T12:48:17.345Z"
   },
   {
    "duration": 14,
    "start_time": "2022-06-06T12:48:17.411Z"
   },
   {
    "duration": 29,
    "start_time": "2022-06-06T12:48:17.427Z"
   },
   {
    "duration": 11,
    "start_time": "2022-06-06T12:48:17.457Z"
   },
   {
    "duration": 21,
    "start_time": "2022-06-06T12:48:17.469Z"
   },
   {
    "duration": 37,
    "start_time": "2022-06-06T12:48:17.492Z"
   },
   {
    "duration": 37,
    "start_time": "2022-06-06T12:48:17.531Z"
   },
   {
    "duration": 8,
    "start_time": "2022-06-06T12:48:17.570Z"
   },
   {
    "duration": 13,
    "start_time": "2022-06-06T12:48:17.580Z"
   },
   {
    "duration": 62,
    "start_time": "2022-06-06T12:48:17.595Z"
   },
   {
    "duration": 15,
    "start_time": "2022-06-06T12:48:17.660Z"
   },
   {
    "duration": 12,
    "start_time": "2022-06-06T12:48:17.676Z"
   },
   {
    "duration": 19,
    "start_time": "2022-06-06T12:48:17.689Z"
   },
   {
    "duration": 43,
    "start_time": "2022-06-06T12:48:17.710Z"
   },
   {
    "duration": 11,
    "start_time": "2022-06-06T12:48:17.754Z"
   },
   {
    "duration": 17,
    "start_time": "2022-06-06T12:48:17.766Z"
   },
   {
    "duration": 11,
    "start_time": "2022-06-06T12:48:17.785Z"
   },
   {
    "duration": 52,
    "start_time": "2022-06-06T12:48:17.797Z"
   },
   {
    "duration": 29,
    "start_time": "2022-06-06T12:48:17.851Z"
   },
   {
    "duration": 23,
    "start_time": "2022-06-06T12:48:17.881Z"
   },
   {
    "duration": 34,
    "start_time": "2022-06-06T12:48:17.906Z"
   },
   {
    "duration": 5,
    "start_time": "2022-06-06T12:48:17.942Z"
   },
   {
    "duration": 31,
    "start_time": "2022-06-06T12:48:17.949Z"
   },
   {
    "duration": 14,
    "start_time": "2022-06-06T12:48:17.982Z"
   },
   {
    "duration": 2,
    "start_time": "2022-06-06T12:48:17.998Z"
   },
   {
    "duration": 45,
    "start_time": "2022-06-06T12:48:18.002Z"
   },
   {
    "duration": 16,
    "start_time": "2022-06-06T12:48:18.050Z"
   },
   {
    "duration": 9,
    "start_time": "2022-06-06T12:48:18.068Z"
   },
   {
    "duration": 22,
    "start_time": "2022-06-06T12:48:18.078Z"
   },
   {
    "duration": 189,
    "start_time": "2022-06-06T12:48:18.101Z"
   },
   {
    "duration": 7,
    "start_time": "2022-06-06T12:48:18.292Z"
   },
   {
    "duration": 48,
    "start_time": "2022-06-06T12:48:18.300Z"
   },
   {
    "duration": 20,
    "start_time": "2022-06-06T12:48:18.351Z"
   },
   {
    "duration": 54,
    "start_time": "2022-06-06T12:48:18.373Z"
   },
   {
    "duration": 1091,
    "start_time": "2022-06-06T12:48:18.430Z"
   },
   {
    "duration": 800,
    "start_time": "2022-06-06T12:48:19.527Z"
   },
   {
    "duration": 6,
    "start_time": "2022-06-06T12:48:20.329Z"
   },
   {
    "duration": 26,
    "start_time": "2022-06-06T12:48:20.341Z"
   },
   {
    "duration": 12,
    "start_time": "2022-06-06T12:48:20.369Z"
   },
   {
    "duration": 12,
    "start_time": "2022-06-06T12:48:20.383Z"
   },
   {
    "duration": 3209,
    "start_time": "2022-06-06T12:48:20.396Z"
   },
   {
    "duration": 4,
    "start_time": "2022-06-06T12:48:23.607Z"
   },
   {
    "duration": 42,
    "start_time": "2022-06-06T12:48:23.627Z"
   },
   {
    "duration": 4,
    "start_time": "2022-06-06T12:48:23.670Z"
   },
   {
    "duration": 33,
    "start_time": "2022-06-06T12:48:23.676Z"
   },
   {
    "duration": 35,
    "start_time": "2022-06-06T12:48:23.711Z"
   },
   {
    "duration": 392,
    "start_time": "2022-06-06T12:48:23.749Z"
   },
   {
    "duration": 16,
    "start_time": "2022-06-06T12:48:24.144Z"
   },
   {
    "duration": 23,
    "start_time": "2022-06-06T12:48:24.162Z"
   },
   {
    "duration": 74,
    "start_time": "2022-06-06T12:48:24.187Z"
   },
   {
    "duration": 40,
    "start_time": "2022-06-06T12:48:24.263Z"
   },
   {
    "duration": 36,
    "start_time": "2022-06-06T12:48:24.305Z"
   },
   {
    "duration": 21,
    "start_time": "2022-06-06T12:48:24.344Z"
   },
   {
    "duration": 15,
    "start_time": "2022-06-06T12:48:24.367Z"
   },
   {
    "duration": 59,
    "start_time": "2022-06-06T12:48:24.383Z"
   },
   {
    "duration": 33,
    "start_time": "2022-06-06T12:48:24.444Z"
   },
   {
    "duration": 35,
    "start_time": "2022-06-06T13:00:43.800Z"
   },
   {
    "duration": 52,
    "start_time": "2022-06-07T09:19:32.914Z"
   },
   {
    "duration": 3933,
    "start_time": "2022-06-07T09:19:37.075Z"
   },
   {
    "duration": 3,
    "start_time": "2022-06-07T09:19:41.010Z"
   },
   {
    "duration": 91,
    "start_time": "2022-06-07T09:19:41.015Z"
   },
   {
    "duration": 114,
    "start_time": "2022-06-07T09:19:41.108Z"
   },
   {
    "duration": 12,
    "start_time": "2022-06-07T09:19:41.224Z"
   },
   {
    "duration": 15,
    "start_time": "2022-06-07T09:19:41.238Z"
   },
   {
    "duration": 19,
    "start_time": "2022-06-07T09:19:41.255Z"
   },
   {
    "duration": 20,
    "start_time": "2022-06-07T09:19:41.276Z"
   },
   {
    "duration": 18,
    "start_time": "2022-06-07T09:19:41.297Z"
   },
   {
    "duration": 35,
    "start_time": "2022-06-07T09:19:41.318Z"
   },
   {
    "duration": 9,
    "start_time": "2022-06-07T09:19:41.355Z"
   },
   {
    "duration": 32,
    "start_time": "2022-06-07T09:19:41.366Z"
   },
   {
    "duration": 36,
    "start_time": "2022-06-07T09:19:41.400Z"
   },
   {
    "duration": 14,
    "start_time": "2022-06-07T09:19:41.437Z"
   },
   {
    "duration": 11,
    "start_time": "2022-06-07T09:19:41.453Z"
   },
   {
    "duration": 35,
    "start_time": "2022-06-07T09:19:41.466Z"
   },
   {
    "duration": 21,
    "start_time": "2022-06-07T09:19:41.503Z"
   },
   {
    "duration": 11,
    "start_time": "2022-06-07T09:19:41.525Z"
   },
   {
    "duration": 6,
    "start_time": "2022-06-07T09:19:41.539Z"
   },
   {
    "duration": 5,
    "start_time": "2022-06-07T09:19:41.546Z"
   },
   {
    "duration": 56,
    "start_time": "2022-06-07T09:19:41.553Z"
   },
   {
    "duration": 29,
    "start_time": "2022-06-07T09:19:41.610Z"
   },
   {
    "duration": 22,
    "start_time": "2022-06-07T09:19:41.641Z"
   },
   {
    "duration": 40,
    "start_time": "2022-06-07T09:19:41.665Z"
   },
   {
    "duration": 4,
    "start_time": "2022-06-07T09:19:41.707Z"
   },
   {
    "duration": 21,
    "start_time": "2022-06-07T09:19:41.712Z"
   },
   {
    "duration": 12,
    "start_time": "2022-06-07T09:19:41.735Z"
   },
   {
    "duration": 2,
    "start_time": "2022-06-07T09:19:41.751Z"
   },
   {
    "duration": 47,
    "start_time": "2022-06-07T09:19:41.755Z"
   },
   {
    "duration": 11,
    "start_time": "2022-06-07T09:19:41.804Z"
   },
   {
    "duration": 5,
    "start_time": "2022-06-07T09:19:41.816Z"
   },
   {
    "duration": 21,
    "start_time": "2022-06-07T09:19:41.822Z"
   },
   {
    "duration": 146,
    "start_time": "2022-06-07T09:19:41.844Z"
   },
   {
    "duration": 7,
    "start_time": "2022-06-07T09:19:41.993Z"
   },
   {
    "duration": 29,
    "start_time": "2022-06-07T09:19:42.001Z"
   },
   {
    "duration": 21,
    "start_time": "2022-06-07T09:19:42.031Z"
   },
   {
    "duration": 22,
    "start_time": "2022-06-07T09:19:42.053Z"
   },
   {
    "duration": 948,
    "start_time": "2022-06-07T09:19:42.077Z"
   },
   {
    "duration": 777,
    "start_time": "2022-06-07T09:19:43.026Z"
   },
   {
    "duration": 5,
    "start_time": "2022-06-07T09:19:43.805Z"
   },
   {
    "duration": 20,
    "start_time": "2022-06-07T09:19:43.812Z"
   },
   {
    "duration": 12,
    "start_time": "2022-06-07T09:19:43.834Z"
   },
   {
    "duration": 13,
    "start_time": "2022-06-07T09:19:43.847Z"
   },
   {
    "duration": 2985,
    "start_time": "2022-06-07T09:19:43.861Z"
   },
   {
    "duration": 4,
    "start_time": "2022-06-07T09:19:46.848Z"
   },
   {
    "duration": 55,
    "start_time": "2022-06-07T09:19:46.853Z"
   },
   {
    "duration": 4,
    "start_time": "2022-06-07T09:19:46.910Z"
   },
   {
    "duration": 30,
    "start_time": "2022-06-07T09:19:46.916Z"
   },
   {
    "duration": 16,
    "start_time": "2022-06-07T09:19:46.947Z"
   },
   {
    "duration": 21,
    "start_time": "2022-06-07T09:19:46.965Z"
   },
   {
    "duration": 35,
    "start_time": "2022-06-07T09:19:46.987Z"
   },
   {
    "duration": 14,
    "start_time": "2022-06-07T09:19:47.023Z"
   },
   {
    "duration": 28,
    "start_time": "2022-06-07T09:19:47.038Z"
   },
   {
    "duration": 354,
    "start_time": "2022-06-07T09:19:47.068Z"
   },
   {
    "duration": 12,
    "start_time": "2022-06-07T09:19:47.424Z"
   },
   {
    "duration": 356,
    "start_time": "2022-06-07T09:19:47.438Z"
   },
   {
    "duration": 14,
    "start_time": "2022-06-07T09:19:47.796Z"
   },
   {
    "duration": 43,
    "start_time": "2022-06-07T09:19:47.812Z"
   },
   {
    "duration": 86,
    "start_time": "2022-06-07T09:19:47.857Z"
   },
   {
    "duration": 144,
    "start_time": "2022-06-07T09:19:47.945Z"
   },
   {
    "duration": 10,
    "start_time": "2022-06-07T09:19:48.091Z"
   },
   {
    "duration": 19,
    "start_time": "2022-06-07T09:19:48.103Z"
   },
   {
    "duration": 14,
    "start_time": "2022-06-07T09:19:48.124Z"
   },
   {
    "duration": 33,
    "start_time": "2022-06-07T09:19:48.140Z"
   },
   {
    "duration": 43,
    "start_time": "2022-06-07T09:19:48.175Z"
   },
   {
    "duration": 11,
    "start_time": "2022-06-07T09:21:57.621Z"
   },
   {
    "duration": 12,
    "start_time": "2022-06-07T09:22:20.741Z"
   },
   {
    "duration": 66,
    "start_time": "2022-06-07T09:23:57.578Z"
   },
   {
    "duration": 9,
    "start_time": "2022-06-07T09:24:29.386Z"
   },
   {
    "duration": 10,
    "start_time": "2022-06-07T09:24:52.632Z"
   },
   {
    "duration": 16,
    "start_time": "2022-06-07T09:25:56.585Z"
   },
   {
    "duration": 14,
    "start_time": "2022-06-07T09:28:16.321Z"
   },
   {
    "duration": 23,
    "start_time": "2022-06-07T09:28:32.370Z"
   },
   {
    "duration": 16,
    "start_time": "2022-06-07T09:29:22.785Z"
   },
   {
    "duration": 19,
    "start_time": "2022-06-07T09:31:09.626Z"
   },
   {
    "duration": 19,
    "start_time": "2022-06-07T09:33:55.740Z"
   },
   {
    "duration": 842,
    "start_time": "2022-06-07T09:41:00.336Z"
   },
   {
    "duration": 61,
    "start_time": "2022-06-07T11:35:06.948Z"
   },
   {
    "duration": 3906,
    "start_time": "2022-06-07T11:35:10.981Z"
   },
   {
    "duration": 3,
    "start_time": "2022-06-07T11:35:14.889Z"
   },
   {
    "duration": 98,
    "start_time": "2022-06-07T11:35:14.893Z"
   },
   {
    "duration": 115,
    "start_time": "2022-06-07T11:35:14.993Z"
   },
   {
    "duration": 14,
    "start_time": "2022-06-07T11:35:15.110Z"
   },
   {
    "duration": 26,
    "start_time": "2022-06-07T11:35:15.126Z"
   },
   {
    "duration": 13,
    "start_time": "2022-06-07T11:35:15.154Z"
   },
   {
    "duration": 26,
    "start_time": "2022-06-07T11:35:15.169Z"
   },
   {
    "duration": 32,
    "start_time": "2022-06-07T11:35:15.196Z"
   },
   {
    "duration": 36,
    "start_time": "2022-06-07T11:35:15.231Z"
   },
   {
    "duration": 9,
    "start_time": "2022-06-07T11:35:15.269Z"
   },
   {
    "duration": 34,
    "start_time": "2022-06-07T11:35:15.279Z"
   },
   {
    "duration": 47,
    "start_time": "2022-06-07T11:35:15.315Z"
   },
   {
    "duration": 15,
    "start_time": "2022-06-07T11:35:15.364Z"
   },
   {
    "duration": 17,
    "start_time": "2022-06-07T11:35:15.381Z"
   },
   {
    "duration": 33,
    "start_time": "2022-06-07T11:35:15.400Z"
   },
   {
    "duration": 27,
    "start_time": "2022-06-07T11:35:15.435Z"
   },
   {
    "duration": 25,
    "start_time": "2022-06-07T11:35:15.464Z"
   },
   {
    "duration": 22,
    "start_time": "2022-06-07T11:35:15.491Z"
   },
   {
    "duration": 8,
    "start_time": "2022-06-07T11:35:15.515Z"
   },
   {
    "duration": 48,
    "start_time": "2022-06-07T11:35:15.525Z"
   },
   {
    "duration": 29,
    "start_time": "2022-06-07T11:35:15.575Z"
   },
   {
    "duration": 27,
    "start_time": "2022-06-07T11:35:15.605Z"
   },
   {
    "duration": 20,
    "start_time": "2022-06-07T11:35:15.633Z"
   },
   {
    "duration": 9,
    "start_time": "2022-06-07T11:35:15.655Z"
   },
   {
    "duration": 40,
    "start_time": "2022-06-07T11:35:15.666Z"
   },
   {
    "duration": 17,
    "start_time": "2022-06-07T11:35:15.707Z"
   },
   {
    "duration": 28,
    "start_time": "2022-06-07T11:35:15.728Z"
   },
   {
    "duration": 25,
    "start_time": "2022-06-07T11:35:15.757Z"
   },
   {
    "duration": 13,
    "start_time": "2022-06-07T11:35:15.784Z"
   },
   {
    "duration": 5,
    "start_time": "2022-06-07T11:35:15.799Z"
   },
   {
    "duration": 26,
    "start_time": "2022-06-07T11:35:15.805Z"
   },
   {
    "duration": 158,
    "start_time": "2022-06-07T11:35:15.833Z"
   },
   {
    "duration": 8,
    "start_time": "2022-06-07T11:35:15.993Z"
   },
   {
    "duration": 27,
    "start_time": "2022-06-07T11:35:16.002Z"
   },
   {
    "duration": 37,
    "start_time": "2022-06-07T11:35:16.031Z"
   },
   {
    "duration": 15,
    "start_time": "2022-06-07T11:35:16.070Z"
   },
   {
    "duration": 994,
    "start_time": "2022-06-07T11:35:16.093Z"
   },
   {
    "duration": 793,
    "start_time": "2022-06-07T11:35:17.094Z"
   },
   {
    "duration": 6,
    "start_time": "2022-06-07T11:35:17.889Z"
   },
   {
    "duration": 29,
    "start_time": "2022-06-07T11:35:17.897Z"
   },
   {
    "duration": 15,
    "start_time": "2022-06-07T11:35:17.928Z"
   },
   {
    "duration": 12,
    "start_time": "2022-06-07T11:35:17.944Z"
   },
   {
    "duration": 3107,
    "start_time": "2022-06-07T11:35:17.958Z"
   },
   {
    "duration": 3,
    "start_time": "2022-06-07T11:35:21.067Z"
   },
   {
    "duration": 51,
    "start_time": "2022-06-07T11:35:21.072Z"
   },
   {
    "duration": 5,
    "start_time": "2022-06-07T11:35:21.125Z"
   },
   {
    "duration": 21,
    "start_time": "2022-06-07T11:35:21.132Z"
   },
   {
    "duration": 8,
    "start_time": "2022-06-07T11:35:21.155Z"
   },
   {
    "duration": 29,
    "start_time": "2022-06-07T11:35:21.165Z"
   },
   {
    "duration": 12,
    "start_time": "2022-06-07T11:35:21.197Z"
   },
   {
    "duration": 32,
    "start_time": "2022-06-07T11:35:21.211Z"
   },
   {
    "duration": 8,
    "start_time": "2022-06-07T11:35:21.245Z"
   },
   {
    "duration": 391,
    "start_time": "2022-06-07T11:35:21.255Z"
   },
   {
    "duration": 11,
    "start_time": "2022-06-07T11:35:21.648Z"
   },
   {
    "duration": 361,
    "start_time": "2022-06-07T11:35:21.661Z"
   },
   {
    "duration": 16,
    "start_time": "2022-06-07T11:35:22.023Z"
   },
   {
    "duration": 89,
    "start_time": "2022-06-07T11:35:22.040Z"
   },
   {
    "duration": 0,
    "start_time": "2022-06-07T11:35:22.131Z"
   },
   {
    "duration": 0,
    "start_time": "2022-06-07T11:35:22.133Z"
   },
   {
    "duration": 0,
    "start_time": "2022-06-07T11:35:22.134Z"
   },
   {
    "duration": 0,
    "start_time": "2022-06-07T11:35:22.135Z"
   },
   {
    "duration": 0,
    "start_time": "2022-06-07T11:35:22.136Z"
   },
   {
    "duration": 0,
    "start_time": "2022-06-07T11:35:22.138Z"
   },
   {
    "duration": 0,
    "start_time": "2022-06-07T11:35:22.139Z"
   },
   {
    "duration": 0,
    "start_time": "2022-06-07T11:35:22.140Z"
   },
   {
    "duration": 1016,
    "start_time": "2022-06-07T11:36:09.568Z"
   },
   {
    "duration": 46,
    "start_time": "2022-06-07T11:36:11.383Z"
   },
   {
    "duration": 46,
    "start_time": "2022-06-07T11:36:11.599Z"
   },
   {
    "duration": 13,
    "start_time": "2022-06-07T11:36:11.785Z"
   },
   {
    "duration": 26,
    "start_time": "2022-06-07T11:36:12.017Z"
   },
   {
    "duration": 22,
    "start_time": "2022-06-07T11:36:12.224Z"
   },
   {
    "duration": 44,
    "start_time": "2022-06-07T11:36:13.200Z"
   },
   {
    "duration": 33,
    "start_time": "2022-06-07T11:36:13.929Z"
   },
   {
    "duration": 23,
    "start_time": "2022-06-07T11:37:53.538Z"
   },
   {
    "duration": 25,
    "start_time": "2022-06-07T11:38:07.969Z"
   },
   {
    "duration": 35,
    "start_time": "2022-06-07T11:38:14.376Z"
   },
   {
    "duration": 10,
    "start_time": "2022-06-07T11:39:33.042Z"
   },
   {
    "duration": 9,
    "start_time": "2022-06-07T11:39:51.060Z"
   },
   {
    "duration": 8,
    "start_time": "2022-06-07T11:42:54.184Z"
   },
   {
    "duration": 12,
    "start_time": "2022-06-07T11:43:57.918Z"
   },
   {
    "duration": 11,
    "start_time": "2022-06-07T11:44:13.273Z"
   },
   {
    "duration": 10,
    "start_time": "2022-06-07T11:44:49.960Z"
   },
   {
    "duration": 16,
    "start_time": "2022-06-07T11:45:11.215Z"
   },
   {
    "duration": 1095,
    "start_time": "2022-06-07T11:45:58.847Z"
   },
   {
    "duration": 851,
    "start_time": "2022-06-07T11:46:23.486Z"
   },
   {
    "duration": 814,
    "start_time": "2022-06-07T11:46:29.334Z"
   },
   {
    "duration": 10,
    "start_time": "2022-06-07T11:47:26.398Z"
   },
   {
    "duration": 11,
    "start_time": "2022-06-07T11:49:44.999Z"
   },
   {
    "duration": 12,
    "start_time": "2022-06-07T11:52:28.926Z"
   },
   {
    "duration": 10,
    "start_time": "2022-06-07T11:52:48.105Z"
   },
   {
    "duration": 13,
    "start_time": "2022-06-07T11:53:17.872Z"
   },
   {
    "duration": 10,
    "start_time": "2022-06-07T11:53:29.324Z"
   },
   {
    "duration": 9,
    "start_time": "2022-06-07T11:54:41.038Z"
   },
   {
    "duration": 709,
    "start_time": "2022-06-07T11:55:51.732Z"
   },
   {
    "duration": 9,
    "start_time": "2022-06-07T11:56:48.325Z"
   },
   {
    "duration": 841,
    "start_time": "2022-06-07T11:57:24.964Z"
   },
   {
    "duration": 717,
    "start_time": "2022-06-07T11:57:42.667Z"
   },
   {
    "duration": 797,
    "start_time": "2022-06-07T11:58:24.955Z"
   },
   {
    "duration": 9,
    "start_time": "2022-06-07T11:58:50.819Z"
   },
   {
    "duration": 680,
    "start_time": "2022-06-07T11:59:44.436Z"
   },
   {
    "duration": 13,
    "start_time": "2022-06-07T12:01:35.059Z"
   },
   {
    "duration": 33,
    "start_time": "2022-06-07T12:01:59.476Z"
   },
   {
    "duration": 22,
    "start_time": "2022-06-07T12:02:05.435Z"
   },
   {
    "duration": 9,
    "start_time": "2022-06-07T12:02:16.007Z"
   },
   {
    "duration": 8,
    "start_time": "2022-06-07T12:02:31.483Z"
   },
   {
    "duration": 753,
    "start_time": "2022-06-07T12:02:59.165Z"
   },
   {
    "duration": 820,
    "start_time": "2022-06-07T12:03:19.711Z"
   },
   {
    "duration": 10,
    "start_time": "2022-06-07T12:06:44.241Z"
   },
   {
    "duration": 17,
    "start_time": "2022-06-07T12:06:52.391Z"
   },
   {
    "duration": 16,
    "start_time": "2022-06-07T12:08:13.700Z"
   },
   {
    "duration": 11,
    "start_time": "2022-06-07T12:08:22.016Z"
   },
   {
    "duration": 31,
    "start_time": "2022-06-07T12:08:59.314Z"
   },
   {
    "duration": 9,
    "start_time": "2022-06-07T12:09:11.666Z"
   },
   {
    "duration": 11,
    "start_time": "2022-06-07T12:09:45.373Z"
   },
   {
    "duration": 3,
    "start_time": "2022-06-07T12:11:32.117Z"
   },
   {
    "duration": 15,
    "start_time": "2022-06-07T12:14:17.299Z"
   },
   {
    "duration": 388,
    "start_time": "2022-06-07T12:15:56.864Z"
   },
   {
    "duration": 12,
    "start_time": "2022-06-07T12:15:57.439Z"
   },
   {
    "duration": 12,
    "start_time": "2022-06-07T12:15:59.731Z"
   },
   {
    "duration": 43,
    "start_time": "2022-06-07T12:16:00.590Z"
   },
   {
    "duration": 230,
    "start_time": "2022-06-07T12:16:35.457Z"
   },
   {
    "duration": 11,
    "start_time": "2022-06-07T12:16:35.974Z"
   },
   {
    "duration": 33,
    "start_time": "2022-06-07T12:16:46.077Z"
   },
   {
    "duration": 137,
    "start_time": "2022-06-07T12:17:47.528Z"
   },
   {
    "duration": 26,
    "start_time": "2022-06-07T12:17:48.490Z"
   },
   {
    "duration": 29,
    "start_time": "2022-06-07T12:19:57.526Z"
   },
   {
    "duration": 3,
    "start_time": "2022-06-07T12:20:44.830Z"
   },
   {
    "duration": 7,
    "start_time": "2022-06-07T12:23:06.609Z"
   },
   {
    "duration": 7,
    "start_time": "2022-06-07T12:24:14.096Z"
   },
   {
    "duration": 8,
    "start_time": "2022-06-07T12:24:21.918Z"
   },
   {
    "duration": 6,
    "start_time": "2022-06-07T12:25:29.043Z"
   },
   {
    "duration": 15,
    "start_time": "2022-06-07T12:30:28.533Z"
   },
   {
    "duration": 5,
    "start_time": "2022-06-07T12:31:42.065Z"
   },
   {
    "duration": 30,
    "start_time": "2022-06-07T12:32:34.679Z"
   },
   {
    "duration": 18,
    "start_time": "2022-06-07T12:35:34.129Z"
   },
   {
    "duration": 16,
    "start_time": "2022-06-07T12:35:38.773Z"
   },
   {
    "duration": 31,
    "start_time": "2022-06-07T12:35:59.839Z"
   },
   {
    "duration": 32,
    "start_time": "2022-06-07T12:45:16.220Z"
   },
   {
    "duration": 478,
    "start_time": "2022-06-07T12:47:53.294Z"
   },
   {
    "duration": 518,
    "start_time": "2022-06-07T12:48:14.771Z"
   },
   {
    "duration": 40,
    "start_time": "2022-06-07T12:53:27.282Z"
   },
   {
    "duration": 51,
    "start_time": "2022-06-08T09:26:10.983Z"
   },
   {
    "duration": 3412,
    "start_time": "2022-06-08T09:26:18.523Z"
   },
   {
    "duration": 4,
    "start_time": "2022-06-08T09:26:21.938Z"
   },
   {
    "duration": 100,
    "start_time": "2022-06-08T09:26:21.944Z"
   },
   {
    "duration": 678,
    "start_time": "2022-06-08T09:26:22.048Z"
   },
   {
    "duration": 22,
    "start_time": "2022-06-08T09:26:22.730Z"
   },
   {
    "duration": 27,
    "start_time": "2022-06-08T09:26:22.753Z"
   },
   {
    "duration": 12,
    "start_time": "2022-06-08T09:26:22.782Z"
   },
   {
    "duration": 32,
    "start_time": "2022-06-08T09:26:22.796Z"
   },
   {
    "duration": 25,
    "start_time": "2022-06-08T09:26:22.830Z"
   },
   {
    "duration": 31,
    "start_time": "2022-06-08T09:26:22.856Z"
   },
   {
    "duration": 7,
    "start_time": "2022-06-08T09:26:22.888Z"
   },
   {
    "duration": 30,
    "start_time": "2022-06-08T09:26:22.897Z"
   },
   {
    "duration": 46,
    "start_time": "2022-06-08T09:26:22.933Z"
   },
   {
    "duration": 21,
    "start_time": "2022-06-08T09:26:22.982Z"
   },
   {
    "duration": 26,
    "start_time": "2022-06-08T09:26:23.004Z"
   },
   {
    "duration": 19,
    "start_time": "2022-06-08T09:26:23.035Z"
   },
   {
    "duration": 17,
    "start_time": "2022-06-08T09:26:23.056Z"
   },
   {
    "duration": 9,
    "start_time": "2022-06-08T09:26:23.074Z"
   },
   {
    "duration": 6,
    "start_time": "2022-06-08T09:26:23.084Z"
   },
   {
    "duration": 9,
    "start_time": "2022-06-08T09:26:23.092Z"
   },
   {
    "duration": 38,
    "start_time": "2022-06-08T09:26:23.125Z"
   },
   {
    "duration": 26,
    "start_time": "2022-06-08T09:26:23.164Z"
   },
   {
    "duration": 40,
    "start_time": "2022-06-08T09:26:23.192Z"
   },
   {
    "duration": 30,
    "start_time": "2022-06-08T09:26:23.233Z"
   },
   {
    "duration": 4,
    "start_time": "2022-06-08T09:26:23.265Z"
   },
   {
    "duration": 19,
    "start_time": "2022-06-08T09:26:23.270Z"
   },
   {
    "duration": 12,
    "start_time": "2022-06-08T09:26:23.290Z"
   },
   {
    "duration": 3,
    "start_time": "2022-06-08T09:26:23.325Z"
   },
   {
    "duration": 34,
    "start_time": "2022-06-08T09:26:23.330Z"
   },
   {
    "duration": 11,
    "start_time": "2022-06-08T09:26:23.366Z"
   },
   {
    "duration": 4,
    "start_time": "2022-06-08T09:26:23.379Z"
   },
   {
    "duration": 10,
    "start_time": "2022-06-08T09:26:23.384Z"
   },
   {
    "duration": 160,
    "start_time": "2022-06-08T09:26:23.396Z"
   },
   {
    "duration": 7,
    "start_time": "2022-06-08T09:26:23.557Z"
   },
   {
    "duration": 20,
    "start_time": "2022-06-08T09:26:23.565Z"
   },
   {
    "duration": 15,
    "start_time": "2022-06-08T09:26:23.586Z"
   },
   {
    "duration": 25,
    "start_time": "2022-06-08T09:26:23.603Z"
   },
   {
    "duration": 886,
    "start_time": "2022-06-08T09:26:23.630Z"
   },
   {
    "duration": 716,
    "start_time": "2022-06-08T09:26:24.517Z"
   },
   {
    "duration": 16,
    "start_time": "2022-06-08T09:26:25.235Z"
   },
   {
    "duration": 9,
    "start_time": "2022-06-08T09:26:25.255Z"
   },
   {
    "duration": 7,
    "start_time": "2022-06-08T09:26:25.265Z"
   },
   {
    "duration": 6,
    "start_time": "2022-06-08T09:26:25.273Z"
   },
   {
    "duration": 14,
    "start_time": "2022-06-08T09:26:25.280Z"
   },
   {
    "duration": 37,
    "start_time": "2022-06-08T09:26:25.295Z"
   },
   {
    "duration": 18,
    "start_time": "2022-06-08T09:26:25.333Z"
   },
   {
    "duration": 2884,
    "start_time": "2022-06-08T09:26:25.353Z"
   },
   {
    "duration": 6,
    "start_time": "2022-06-08T09:26:28.240Z"
   },
   {
    "duration": 42,
    "start_time": "2022-06-08T09:26:28.248Z"
   },
   {
    "duration": 3,
    "start_time": "2022-06-08T09:26:28.291Z"
   },
   {
    "duration": 12,
    "start_time": "2022-06-08T09:26:28.296Z"
   },
   {
    "duration": 39,
    "start_time": "2022-06-08T09:26:28.309Z"
   },
   {
    "duration": 8,
    "start_time": "2022-06-08T09:26:28.350Z"
   },
   {
    "duration": 6,
    "start_time": "2022-06-08T09:26:28.360Z"
   },
   {
    "duration": 10,
    "start_time": "2022-06-08T09:26:28.368Z"
   },
   {
    "duration": 207,
    "start_time": "2022-06-08T09:26:28.379Z"
   },
   {
    "duration": 9,
    "start_time": "2022-06-08T09:26:28.588Z"
   },
   {
    "duration": 163,
    "start_time": "2022-06-08T09:26:28.598Z"
   },
   {
    "duration": 11,
    "start_time": "2022-06-08T09:26:28.763Z"
   },
   {
    "duration": 11,
    "start_time": "2022-06-08T09:26:28.776Z"
   },
   {
    "duration": 9,
    "start_time": "2022-06-08T09:26:28.789Z"
   },
   {
    "duration": 5,
    "start_time": "2022-06-08T09:26:28.799Z"
   },
   {
    "duration": 8,
    "start_time": "2022-06-08T09:26:28.805Z"
   },
   {
    "duration": 17,
    "start_time": "2022-06-08T09:26:28.815Z"
   },
   {
    "duration": 32,
    "start_time": "2022-06-08T09:26:28.834Z"
   },
   {
    "duration": 48,
    "start_time": "2022-06-08T09:26:28.868Z"
   },
   {
    "duration": 0,
    "start_time": "2022-06-08T09:26:28.917Z"
   },
   {
    "duration": 0,
    "start_time": "2022-06-08T09:26:28.918Z"
   },
   {
    "duration": 0,
    "start_time": "2022-06-08T09:26:28.919Z"
   },
   {
    "duration": 0,
    "start_time": "2022-06-08T09:26:28.921Z"
   },
   {
    "duration": 0,
    "start_time": "2022-06-08T09:26:28.922Z"
   },
   {
    "duration": 0,
    "start_time": "2022-06-08T09:26:28.923Z"
   },
   {
    "duration": 0,
    "start_time": "2022-06-08T09:26:28.924Z"
   },
   {
    "duration": 1,
    "start_time": "2022-06-08T09:26:28.925Z"
   },
   {
    "duration": 0,
    "start_time": "2022-06-08T09:26:28.927Z"
   },
   {
    "duration": 0,
    "start_time": "2022-06-08T09:26:28.928Z"
   },
   {
    "duration": 0,
    "start_time": "2022-06-08T09:26:28.929Z"
   },
   {
    "duration": 13,
    "start_time": "2022-06-08T09:35:35.048Z"
   },
   {
    "duration": 13,
    "start_time": "2022-06-08T09:41:01.376Z"
   },
   {
    "duration": 10,
    "start_time": "2022-06-08T09:46:37.977Z"
   },
   {
    "duration": 14,
    "start_time": "2022-06-08T09:51:16.469Z"
   },
   {
    "duration": 23,
    "start_time": "2022-06-08T09:52:19.194Z"
   },
   {
    "duration": 15,
    "start_time": "2022-06-08T09:53:48.120Z"
   },
   {
    "duration": 79,
    "start_time": "2022-06-08T09:54:46.560Z"
   },
   {
    "duration": 15,
    "start_time": "2022-06-08T09:54:53.279Z"
   },
   {
    "duration": 15,
    "start_time": "2022-06-08T09:56:15.243Z"
   },
   {
    "duration": 16,
    "start_time": "2022-06-08T09:56:15.968Z"
   },
   {
    "duration": 17,
    "start_time": "2022-06-08T09:59:46.785Z"
   },
   {
    "duration": 17,
    "start_time": "2022-06-08T10:00:03.557Z"
   },
   {
    "duration": 17,
    "start_time": "2022-06-08T10:00:27.626Z"
   },
   {
    "duration": 19,
    "start_time": "2022-06-08T10:01:58.153Z"
   },
   {
    "duration": 17,
    "start_time": "2022-06-08T10:02:23.267Z"
   },
   {
    "duration": 8,
    "start_time": "2022-06-08T10:03:05.066Z"
   },
   {
    "duration": 9,
    "start_time": "2022-06-08T10:08:35.450Z"
   },
   {
    "duration": 35,
    "start_time": "2022-06-08T10:08:49.359Z"
   },
   {
    "duration": 7,
    "start_time": "2022-06-08T10:08:59.048Z"
   },
   {
    "duration": 8,
    "start_time": "2022-06-08T10:09:20.953Z"
   },
   {
    "duration": 10,
    "start_time": "2022-06-08T10:10:39.376Z"
   },
   {
    "duration": 8,
    "start_time": "2022-06-08T10:10:46.304Z"
   },
   {
    "duration": 13,
    "start_time": "2022-06-08T10:11:01.581Z"
   },
   {
    "duration": 4,
    "start_time": "2022-06-08T10:14:16.755Z"
   },
   {
    "duration": 17,
    "start_time": "2022-06-08T10:14:27.047Z"
   },
   {
    "duration": 10,
    "start_time": "2022-06-08T10:20:41.543Z"
   },
   {
    "duration": 16,
    "start_time": "2022-06-08T10:21:34.580Z"
   },
   {
    "duration": 12,
    "start_time": "2022-06-08T10:21:56.401Z"
   },
   {
    "duration": 8,
    "start_time": "2022-06-08T10:22:01.287Z"
   },
   {
    "duration": 12,
    "start_time": "2022-06-08T10:22:35.656Z"
   },
   {
    "duration": 7,
    "start_time": "2022-06-08T10:22:49.673Z"
   },
   {
    "duration": 8,
    "start_time": "2022-06-08T10:23:47.406Z"
   },
   {
    "duration": 12,
    "start_time": "2022-06-08T10:23:48.519Z"
   },
   {
    "duration": 9,
    "start_time": "2022-06-08T10:23:49.112Z"
   },
   {
    "duration": 10,
    "start_time": "2022-06-08T10:23:49.750Z"
   },
   {
    "duration": 9,
    "start_time": "2022-06-08T10:23:50.110Z"
   },
   {
    "duration": 14,
    "start_time": "2022-06-08T10:23:50.462Z"
   },
   {
    "duration": 191,
    "start_time": "2022-06-08T10:23:53.094Z"
   },
   {
    "duration": 10,
    "start_time": "2022-06-08T10:23:53.397Z"
   },
   {
    "duration": 142,
    "start_time": "2022-06-08T10:23:54.112Z"
   },
   {
    "duration": 9,
    "start_time": "2022-06-08T10:24:00.246Z"
   },
   {
    "duration": 125,
    "start_time": "2022-06-08T10:28:02.646Z"
   },
   {
    "duration": 9,
    "start_time": "2022-06-08T10:28:03.774Z"
   },
   {
    "duration": 21,
    "start_time": "2022-06-08T10:31:27.371Z"
   },
   {
    "duration": 16,
    "start_time": "2022-06-08T10:31:40.125Z"
   },
   {
    "duration": 16,
    "start_time": "2022-06-08T10:31:47.321Z"
   },
   {
    "duration": 36,
    "start_time": "2022-06-08T10:31:57.512Z"
   },
   {
    "duration": 10,
    "start_time": "2022-06-08T10:32:01.597Z"
   },
   {
    "duration": 9,
    "start_time": "2022-06-08T10:32:10.191Z"
   },
   {
    "duration": 178,
    "start_time": "2022-06-08T10:33:29.466Z"
   },
   {
    "duration": 10,
    "start_time": "2022-06-08T10:33:30.005Z"
   },
   {
    "duration": 120,
    "start_time": "2022-06-08T10:33:45.869Z"
   },
   {
    "duration": 12,
    "start_time": "2022-06-08T10:33:46.510Z"
   },
   {
    "duration": 21,
    "start_time": "2022-06-08T10:34:08.911Z"
   },
   {
    "duration": 16,
    "start_time": "2022-06-08T10:34:45.013Z"
   },
   {
    "duration": 19,
    "start_time": "2022-06-08T10:35:42.405Z"
   },
   {
    "duration": 19,
    "start_time": "2022-06-08T10:36:46.289Z"
   },
   {
    "duration": 16,
    "start_time": "2022-06-08T10:36:54.229Z"
   },
   {
    "duration": 18,
    "start_time": "2022-06-08T10:37:13.470Z"
   },
   {
    "duration": 20,
    "start_time": "2022-06-08T10:45:40.018Z"
   },
   {
    "duration": 386,
    "start_time": "2022-06-08T10:45:40.530Z"
   },
   {
    "duration": 817,
    "start_time": "2022-06-08T10:46:26.882Z"
   },
   {
    "duration": 707,
    "start_time": "2022-06-08T10:47:50.885Z"
   },
   {
    "duration": 58,
    "start_time": "2022-06-09T09:48:31.993Z"
   },
   {
    "duration": 47,
    "start_time": "2022-06-09T09:48:32.676Z"
   },
   {
    "duration": 27,
    "start_time": "2022-06-09T09:48:32.968Z"
   },
   {
    "duration": 11,
    "start_time": "2022-06-09T09:48:33.271Z"
   },
   {
    "duration": 10,
    "start_time": "2022-06-09T09:48:33.485Z"
   },
   {
    "duration": 10,
    "start_time": "2022-06-09T09:48:34.885Z"
   },
   {
    "duration": 9,
    "start_time": "2022-06-09T09:48:35.552Z"
   },
   {
    "duration": 13,
    "start_time": "2022-06-09T09:54:25.183Z"
   },
   {
    "duration": 137,
    "start_time": "2022-06-09T10:08:41.753Z"
   },
   {
    "duration": 23,
    "start_time": "2022-06-09T10:11:16.819Z"
   },
   {
    "duration": 9,
    "start_time": "2022-06-09T10:11:35.177Z"
   },
   {
    "duration": 42,
    "start_time": "2022-06-09T10:12:26.760Z"
   },
   {
    "duration": 3,
    "start_time": "2022-06-09T10:14:02.649Z"
   },
   {
    "duration": 34,
    "start_time": "2022-06-09T10:14:03.278Z"
   },
   {
    "duration": 33,
    "start_time": "2022-06-09T10:14:47.228Z"
   },
   {
    "duration": 3,
    "start_time": "2022-06-09T10:15:45.746Z"
   },
   {
    "duration": 29,
    "start_time": "2022-06-09T10:15:46.359Z"
   },
   {
    "duration": 30,
    "start_time": "2022-06-09T10:15:59.849Z"
   },
   {
    "duration": 5,
    "start_time": "2022-06-09T10:24:01.991Z"
   },
   {
    "duration": 20,
    "start_time": "2022-06-09T10:28:12.088Z"
   },
   {
    "duration": 3,
    "start_time": "2022-06-09T10:40:37.079Z"
   },
   {
    "duration": 4,
    "start_time": "2022-06-09T10:43:02.174Z"
   },
   {
    "duration": 9,
    "start_time": "2022-06-09T10:44:05.370Z"
   },
   {
    "duration": 3,
    "start_time": "2022-06-09T10:44:36.745Z"
   },
   {
    "duration": 8,
    "start_time": "2022-06-09T10:44:38.713Z"
   },
   {
    "duration": 35,
    "start_time": "2022-06-09T10:48:19.423Z"
   },
   {
    "duration": 10,
    "start_time": "2022-06-09T10:48:40.993Z"
   },
   {
    "duration": 10,
    "start_time": "2022-06-09T10:49:00.687Z"
   },
   {
    "duration": 32,
    "start_time": "2022-06-09T10:49:39.975Z"
   },
   {
    "duration": 4,
    "start_time": "2022-06-09T10:51:57.423Z"
   },
   {
    "duration": 18,
    "start_time": "2022-06-09T10:52:36.430Z"
   },
   {
    "duration": 45,
    "start_time": "2022-06-09T10:55:05.909Z"
   },
   {
    "duration": 11,
    "start_time": "2022-06-09T10:55:30.790Z"
   },
   {
    "duration": 35,
    "start_time": "2022-06-09T10:56:25.783Z"
   },
   {
    "duration": 28,
    "start_time": "2022-06-09T10:56:31.429Z"
   },
   {
    "duration": 24,
    "start_time": "2022-06-09T10:58:01.143Z"
   },
   {
    "duration": 20,
    "start_time": "2022-06-09T10:58:47.032Z"
   },
   {
    "duration": 9,
    "start_time": "2022-06-09T11:00:08.917Z"
   },
   {
    "duration": 8,
    "start_time": "2022-06-09T11:00:27.620Z"
   },
   {
    "duration": 12,
    "start_time": "2022-06-09T11:04:03.231Z"
   },
   {
    "duration": 9,
    "start_time": "2022-06-09T11:08:15.877Z"
   },
   {
    "duration": 10,
    "start_time": "2022-06-09T11:10:59.555Z"
   },
   {
    "duration": 3,
    "start_time": "2022-06-09T11:11:22.049Z"
   },
   {
    "duration": 12,
    "start_time": "2022-06-09T11:22:34.272Z"
   },
   {
    "duration": 7,
    "start_time": "2022-06-09T11:24:31.699Z"
   },
   {
    "duration": 14,
    "start_time": "2022-06-09T11:24:41.890Z"
   },
   {
    "duration": 9,
    "start_time": "2022-06-09T11:25:06.209Z"
   },
   {
    "duration": 10,
    "start_time": "2022-06-09T11:25:19.728Z"
   },
   {
    "duration": 12,
    "start_time": "2022-06-09T11:27:42.852Z"
   },
   {
    "duration": 12,
    "start_time": "2022-06-09T11:28:36.416Z"
   },
   {
    "duration": 12,
    "start_time": "2022-06-09T11:28:44.127Z"
   },
   {
    "duration": 11,
    "start_time": "2022-06-09T11:32:56.928Z"
   },
   {
    "duration": 25,
    "start_time": "2022-06-09T11:34:25.835Z"
   },
   {
    "duration": 45,
    "start_time": "2022-06-09T16:06:29.807Z"
   },
   {
    "duration": 3366,
    "start_time": "2022-06-10T13:00:37.794Z"
   },
   {
    "duration": 2,
    "start_time": "2022-06-10T13:00:41.163Z"
   },
   {
    "duration": 91,
    "start_time": "2022-06-10T13:00:41.166Z"
   },
   {
    "duration": 108,
    "start_time": "2022-06-10T13:00:41.259Z"
   },
   {
    "duration": 13,
    "start_time": "2022-06-10T13:00:41.369Z"
   },
   {
    "duration": 16,
    "start_time": "2022-06-10T13:00:41.383Z"
   },
   {
    "duration": 15,
    "start_time": "2022-06-10T13:00:41.401Z"
   },
   {
    "duration": 16,
    "start_time": "2022-06-10T13:00:41.417Z"
   },
   {
    "duration": 25,
    "start_time": "2022-06-10T13:00:41.435Z"
   },
   {
    "duration": 33,
    "start_time": "2022-06-10T13:00:41.463Z"
   },
   {
    "duration": 10,
    "start_time": "2022-06-10T13:00:41.497Z"
   },
   {
    "duration": 6,
    "start_time": "2022-06-10T13:00:41.509Z"
   },
   {
    "duration": 67,
    "start_time": "2022-06-10T13:00:41.517Z"
   },
   {
    "duration": 14,
    "start_time": "2022-06-10T13:00:41.586Z"
   },
   {
    "duration": 14,
    "start_time": "2022-06-10T13:00:41.602Z"
   },
   {
    "duration": 35,
    "start_time": "2022-06-10T13:00:41.618Z"
   },
   {
    "duration": 18,
    "start_time": "2022-06-10T13:00:41.655Z"
   },
   {
    "duration": 8,
    "start_time": "2022-06-10T13:00:41.675Z"
   },
   {
    "duration": 10,
    "start_time": "2022-06-10T13:00:41.685Z"
   },
   {
    "duration": 8,
    "start_time": "2022-06-10T13:00:41.696Z"
   },
   {
    "duration": 48,
    "start_time": "2022-06-10T13:00:41.706Z"
   },
   {
    "duration": 29,
    "start_time": "2022-06-10T13:00:41.756Z"
   },
   {
    "duration": 22,
    "start_time": "2022-06-10T13:00:41.787Z"
   },
   {
    "duration": 18,
    "start_time": "2022-06-10T13:00:41.811Z"
   },
   {
    "duration": 4,
    "start_time": "2022-06-10T13:00:41.851Z"
   },
   {
    "duration": 25,
    "start_time": "2022-06-10T13:00:41.857Z"
   },
   {
    "duration": 13,
    "start_time": "2022-06-10T13:00:41.883Z"
   },
   {
    "duration": 4,
    "start_time": "2022-06-10T13:00:41.900Z"
   },
   {
    "duration": 24,
    "start_time": "2022-06-10T13:00:41.905Z"
   },
   {
    "duration": 24,
    "start_time": "2022-06-10T13:00:41.930Z"
   },
   {
    "duration": 5,
    "start_time": "2022-06-10T13:00:41.956Z"
   },
   {
    "duration": 12,
    "start_time": "2022-06-10T13:00:41.963Z"
   },
   {
    "duration": 153,
    "start_time": "2022-06-10T13:00:41.976Z"
   },
   {
    "duration": 8,
    "start_time": "2022-06-10T13:00:42.130Z"
   },
   {
    "duration": 31,
    "start_time": "2022-06-10T13:00:42.139Z"
   },
   {
    "duration": 19,
    "start_time": "2022-06-10T13:00:42.172Z"
   },
   {
    "duration": 14,
    "start_time": "2022-06-10T13:00:42.192Z"
   },
   {
    "duration": 932,
    "start_time": "2022-06-10T13:00:42.208Z"
   },
   {
    "duration": 762,
    "start_time": "2022-06-10T13:00:43.142Z"
   },
   {
    "duration": 8,
    "start_time": "2022-06-10T13:00:43.906Z"
   },
   {
    "duration": 14,
    "start_time": "2022-06-10T13:00:43.916Z"
   },
   {
    "duration": 26,
    "start_time": "2022-06-10T13:00:43.931Z"
   },
   {
    "duration": 3,
    "start_time": "2022-06-10T13:00:43.958Z"
   },
   {
    "duration": 14,
    "start_time": "2022-06-10T13:00:43.963Z"
   },
   {
    "duration": 50,
    "start_time": "2022-06-10T13:00:43.979Z"
   },
   {
    "duration": 11,
    "start_time": "2022-06-10T13:00:44.031Z"
   },
   {
    "duration": 2950,
    "start_time": "2022-06-10T13:00:44.043Z"
   },
   {
    "duration": 4,
    "start_time": "2022-06-10T13:00:46.995Z"
   },
   {
    "duration": 34,
    "start_time": "2022-06-10T13:00:47.000Z"
   },
   {
    "duration": 16,
    "start_time": "2022-06-10T13:00:47.036Z"
   },
   {
    "duration": 12,
    "start_time": "2022-06-10T13:00:47.054Z"
   },
   {
    "duration": 20,
    "start_time": "2022-06-10T13:00:47.067Z"
   },
   {
    "duration": 7,
    "start_time": "2022-06-10T13:00:47.088Z"
   },
   {
    "duration": 15,
    "start_time": "2022-06-10T13:00:47.096Z"
   },
   {
    "duration": 7,
    "start_time": "2022-06-10T13:00:47.113Z"
   },
   {
    "duration": 11,
    "start_time": "2022-06-10T13:00:47.122Z"
   },
   {
    "duration": 228,
    "start_time": "2022-06-10T13:00:47.135Z"
   },
   {
    "duration": 11,
    "start_time": "2022-06-10T13:00:47.365Z"
   },
   {
    "duration": 143,
    "start_time": "2022-06-10T13:00:47.379Z"
   },
   {
    "duration": 11,
    "start_time": "2022-06-10T13:00:47.523Z"
   },
   {
    "duration": 16,
    "start_time": "2022-06-10T13:00:47.536Z"
   },
   {
    "duration": 4,
    "start_time": "2022-06-10T13:00:47.553Z"
   },
   {
    "duration": 5,
    "start_time": "2022-06-10T13:00:47.559Z"
   },
   {
    "duration": 5,
    "start_time": "2022-06-10T13:00:47.566Z"
   },
   {
    "duration": 14,
    "start_time": "2022-06-10T13:00:47.572Z"
   },
   {
    "duration": 13,
    "start_time": "2022-06-10T13:00:47.588Z"
   },
   {
    "duration": 10,
    "start_time": "2022-06-10T13:00:47.603Z"
   },
   {
    "duration": 47,
    "start_time": "2022-06-10T13:00:47.614Z"
   },
   {
    "duration": 21,
    "start_time": "2022-06-10T13:00:47.662Z"
   },
   {
    "duration": 21,
    "start_time": "2022-06-10T13:00:47.685Z"
   },
   {
    "duration": 16,
    "start_time": "2022-06-10T13:00:47.708Z"
   },
   {
    "duration": 28,
    "start_time": "2022-06-10T13:00:47.725Z"
   },
   {
    "duration": 18,
    "start_time": "2022-06-10T13:00:47.754Z"
   },
   {
    "duration": 26,
    "start_time": "2022-06-10T13:00:47.774Z"
   },
   {
    "duration": 393,
    "start_time": "2022-06-10T13:00:47.802Z"
   },
   {
    "duration": 2,
    "start_time": "2022-06-10T13:00:48.197Z"
   },
   {
    "duration": 11,
    "start_time": "2022-06-10T13:00:48.200Z"
   },
   {
    "duration": 15,
    "start_time": "2022-06-10T13:00:48.212Z"
   },
   {
    "duration": 29,
    "start_time": "2022-06-10T13:00:48.229Z"
   },
   {
    "duration": 3,
    "start_time": "2022-06-10T13:00:48.259Z"
   },
   {
    "duration": 116,
    "start_time": "2022-06-10T13:00:48.263Z"
   }
  ],
  "kernelspec": {
   "display_name": "Python 3 (ipykernel)",
   "language": "python",
   "name": "python3"
  },
  "language_info": {
   "codemirror_mode": {
    "name": "ipython",
    "version": 3
   },
   "file_extension": ".py",
   "mimetype": "text/x-python",
   "name": "python",
   "nbconvert_exporter": "python",
   "pygments_lexer": "ipython3",
   "version": "3.9.7"
  },
  "toc": {
   "base_numbering": 1,
   "nav_menu": {},
   "number_sections": true,
   "sideBar": true,
   "skip_h1_title": true,
   "title_cell": "Table of Contents",
   "title_sidebar": "Contents",
   "toc_cell": false,
   "toc_position": {},
   "toc_section_display": true,
   "toc_window_display": false
  }
 },
 "nbformat": 4,
 "nbformat_minor": 2
}
